{
  "nbformat": 4,
  "nbformat_minor": 0,
  "metadata": {
    "colab": {
      "provenance": [],
      "authorship_tag": "ABX9TyOWqYUbWwpu1T5WAvf1JgTP",
      "include_colab_link": true
    },
    "kernelspec": {
      "name": "python3",
      "display_name": "Python 3"
    },
    "language_info": {
      "name": "python"
    }
  },
  "cells": [
    {
      "cell_type": "markdown",
      "metadata": {
        "id": "view-in-github",
        "colab_type": "text"
      },
      "source": [
        "<a href=\"https://colab.research.google.com/github/karthik-karalgikar/Aedes/blob/main/Untitled0.ipynb\" target=\"_parent\"><img src=\"https://colab.research.google.com/assets/colab-badge.svg\" alt=\"Open In Colab\"/></a>"
      ]
    },
    {
      "cell_type": "code",
      "execution_count": null,
      "metadata": {
        "id": "U9_wx96neCOl"
      },
      "outputs": [],
      "source": [
        "import tensorflow as tf\n"
      ]
    },
    {
      "cell_type": "code",
      "source": [
        "#connect to google drive\n",
        "from google.colab import drive\n",
        "drive.mount('/content/gdrive')"
      ],
      "metadata": {
        "id": "Q0QnUdj-eNb_"
      },
      "execution_count": null,
      "outputs": []
    },
    {
      "cell_type": "code",
      "source": [
        "#define the path and split your data into training and validation split\n",
        "dataset = tf.keras.preprocessing.image_dataset_from_directory(\n",
        "    \"/content/gdrive/MyDrive/Dataset_Segmentation\")\n",
        "ds_train = tf.keras.preprocessing.image_dataset_from_directory(\n",
        "    \"/content/gdrive/MyDrive/Dataset_Segmentation\",\n",
        "    validation_split = 0.2,\n",
        "    subset = \"training\",\n",
        "    seed = 123)\n",
        "ds_validation = tf.keras.preprocessing.image_dataset_from_directory(\n",
        "    \"/content/gdrive/MyDrive/Dataset_Segmentation\",\n",
        "    validation_split = 0.2,\n",
        "    subset = \"validation\",\n",
        "    seed = 123)"
      ],
      "metadata": {
        "colab": {
          "base_uri": "https://localhost:8080/"
        },
        "id": "JqJmN755e-EX",
        "outputId": "5acfbc3a-da51-4d98-e501-e8051eab3d65"
      },
      "execution_count": null,
      "outputs": [
        {
          "output_type": "stream",
          "name": "stdout",
          "text": [
            "Found 664 files belonging to 2 classes.\n",
            "Found 664 files belonging to 2 classes.\n",
            "Using 532 files for training.\n",
            "Found 664 files belonging to 2 classes.\n",
            "Using 132 files for validation.\n"
          ]
        }
      ]
    },
    {
      "cell_type": "code",
      "source": [
        "#define batch size and print image labels\n",
        "import tensorflow_datasets as tdfs\n",
        "\n",
        "batch_size = 64\n",
        "\n",
        "#dataset is defined in code block 5\n",
        "dataset_name = dataset\n",
        "class_names = dataset.class_names\n",
        "print(class_names)"
      ],
      "metadata": {
        "colab": {
          "base_uri": "https://localhost:8080/"
        },
        "id": "KmnmQIIJiEMd",
        "outputId": "ce8d4cf7-afa2-46de-b169-001fe6c140de"
      },
      "execution_count": null,
      "outputs": [
        {
          "output_type": "stream",
          "name": "stdout",
          "text": [
            "['Testing', 'Training']\n"
          ]
        }
      ]
    },
    {
      "cell_type": "code",
      "source": [
        "#resize images and standardize data to make it for a neural network\n",
        "size = (512,512)\n",
        "ds_train = ds_train.map(lambda image,label:(tf.image.resize(image, size),label))\n",
        "ds_val= ds_validation.map(lambda image, label: (tf.image.resize(image, size), label))"
      ],
      "metadata": {
        "id": "_jPS54SQiIJK"
      },
      "execution_count": 12,
      "outputs": []
    }
  ]
}