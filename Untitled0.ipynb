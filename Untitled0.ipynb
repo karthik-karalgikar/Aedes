{
  "nbformat": 4,
  "nbformat_minor": 0,
  "metadata": {
    "colab": {
      "provenance": [],
      "authorship_tag": "ABX9TyMCK0Kf9imrmRp/cSK9SwNs",
      "include_colab_link": true
    },
    "kernelspec": {
      "name": "python3",
      "display_name": "Python 3"
    },
    "language_info": {
      "name": "python"
    }
  },
  "cells": [
    {
      "cell_type": "markdown",
      "metadata": {
        "id": "view-in-github",
        "colab_type": "text"
      },
      "source": [
        "<a href=\"https://colab.research.google.com/github/karthik-karalgikar/Aedes/blob/main/Untitled0.ipynb\" target=\"_parent\"><img src=\"https://colab.research.google.com/assets/colab-badge.svg\" alt=\"Open In Colab\"/></a>"
      ]
    },
    {
      "cell_type": "code",
      "execution_count": null,
      "metadata": {
        "id": "U9_wx96neCOl"
      },
      "outputs": [],
      "source": [
        "import tensorflow as tf\n"
      ]
    },
    {
      "cell_type": "code",
      "source": [
        "from google.colab import drive\n",
        "drive.mount('/content/gdrive')"
      ],
      "metadata": {
        "colab": {
          "base_uri": "https://localhost:8080/"
        },
        "id": "Q0QnUdj-eNb_",
        "outputId": "f1d4667b-2580-4b69-a09d-d3e2c1d956bc"
      },
      "execution_count": null,
      "outputs": [
        {
          "output_type": "stream",
          "name": "stdout",
          "text": [
            "Mounted at /content/gdrive\n"
          ]
        }
      ]
    },
    {
      "cell_type": "code",
      "source": [
        "dataset = tf.keras.preprocessing.image_dataset_from_directory(\n",
        "    \"/content/gdrive/MyDrive/Dataset_Segmentation\")\n",
        "ds_train = tf.keras.preprocessing.image_dataset_from_directory(\n",
        "    \"/content/gdrive/MyDrive/Dataset_Segmentation\",\n",
        "    validation_split = 0.2,\n",
        "    subset = \"training\",\n",
        "    seed = 123)\n",
        "ds_validation = tf.keras.preprocessing.image_dataset_from_directory(\n",
        "    \"/content/gdrive/MyDrive/Dataset_Segmentation\",\n",
        "    validation_split = 0.2,\n",
        "    subset = \"validation\",\n",
        "    seed = 123)"
      ],
      "metadata": {
        "colab": {
          "base_uri": "https://localhost:8080/"
        },
        "id": "JqJmN755e-EX",
        "outputId": "415d87f3-5e9c-4bf2-8a0e-3df70f4522d2"
      },
      "execution_count": 5,
      "outputs": [
        {
          "output_type": "stream",
          "name": "stdout",
          "text": [
            "Found 664 files belonging to 2 classes.\n",
            "Found 664 files belonging to 2 classes.\n",
            "Using 532 files for training.\n",
            "Found 664 files belonging to 2 classes.\n",
            "Using 132 files for validation.\n"
          ]
        }
      ]
    },
    {
      "cell_type": "code",
      "source": [
        "import tensorflow_datasets as tdfs\n",
        "\n",
        "batch_size = 64\n",
        "\n",
        "dataset_name = dataset\n",
        "class_names = dataset.class_names\n",
        "print(class_names)"
      ],
      "metadata": {
        "colab": {
          "base_uri": "https://localhost:8080/"
        },
        "id": "G7YUwUDIiH9r",
        "outputId": "a85fbef6-3dbc-4051-a5a5-5492eabb70a1"
      },
      "execution_count": 7,
      "outputs": [
        {
          "output_type": "stream",
          "name": "stdout",
          "text": [
            "['Testing', 'Training']\n"
          ]
        }
      ]
    }
  ]
}