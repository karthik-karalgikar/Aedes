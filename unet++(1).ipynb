{
  "nbformat": 4,
  "nbformat_minor": 0,
  "metadata": {
    "colab": {
      "provenance": [],
      "authorship_tag": "ABX9TyNX+H9YvT++7zpBdzMRYq+m",
      "include_colab_link": true
    },
    "kernelspec": {
      "name": "python3",
      "display_name": "Python 3"
    },
    "language_info": {
      "name": "python"
    }
  },
  "cells": [
    {
      "cell_type": "markdown",
      "metadata": {
        "id": "view-in-github",
        "colab_type": "text"
      },
      "source": [
        "<a href=\"https://colab.research.google.com/github/karthik-karalgikar/Aedes/blob/main/unet%2B%2B(1).ipynb\" target=\"_parent\"><img src=\"https://colab.research.google.com/assets/colab-badge.svg\" alt=\"Open In Colab\"/></a>"
      ]
    },
    {
      "cell_type": "code",
      "execution_count": 13,
      "metadata": {
        "colab": {
          "base_uri": "https://localhost:8080/"
        },
        "id": "tWFJ0UGudpPH",
        "outputId": "3be63137-e734-456d-f846-ae07ba6cd1c3"
      },
      "outputs": [
        {
          "output_type": "stream",
          "name": "stdout",
          "text": [
            "Drive already mounted at /content/gdrive; to attempt to forcibly remount, call drive.mount(\"/content/gdrive\", force_remount=True).\n"
          ]
        }
      ],
      "source": [
        "from google.colab import drive\n",
        "drive.mount('/content/gdrive')"
      ]
    },
    {
      "cell_type": "code",
      "source": [
        "import os\n",
        "# The path below should point to the directory containing this notebook and the associated utility files\n",
        "# Change it if necessary\n",
        "os.chdir('/content/gdrive/MyDrive')\n",
        "PATH='./'"
      ],
      "metadata": {
        "id": "OD0g67xUd7kp"
      },
      "execution_count": 14,
      "outputs": []
    },
    {
      "cell_type": "code",
      "source": [
        "if not os.path.exists(PATH+'train'):\n",
        "    os.makedirs(PATH+'train')\n",
        "if not os.path.exists(PATH+'train/MainDataset/'):\n",
        "    os.makedirs(PATH+'train/MainDataset/')\n",
        "if not os.path.exists(PATH+'train/Masked_images/'):\n",
        "    os.makedirs(PATH+'train/Masked_images/')\n",
        "\n",
        "if not os.path.exists(PATH+'test'):\n",
        "    os.makedirs(PATH+'test')\n",
        "if not os.path.exists(PATH+'test/MainDataset/'):\n",
        "    os.makedirs(PATH+'test/MainDataset/')\n",
        "if not os.path.exists(PATH+'test/Masked_images/'):\n",
        "    os.makedirs(PATH+'test/Masked_images/')\n",
        "\n",
        "if not os.path.exists(PATH+'pred'):\n",
        "    os.makedirs(PATH+'pred')"
      ],
      "metadata": {
        "id": "pfOHeh7AeG0q"
      },
      "execution_count": 15,
      "outputs": []
    },
    {
      "cell_type": "code",
      "source": [
        "files=(os.listdir('./MainDataset/'))\n",
        "print(len(files))"
      ],
      "metadata": {
        "colab": {
          "base_uri": "https://localhost:8080/"
        },
        "id": "an81LeeMeX6Q",
        "outputId": "963780e6-959d-454a-8bb5-8296bd84e274"
      },
      "execution_count": 16,
      "outputs": [
        {
          "output_type": "stream",
          "name": "stdout",
          "text": [
            "464\n"
          ]
        }
      ]
    },
    {
      "cell_type": "code",
      "source": [
        "import numpy as np\n",
        "nums=np.random.permutation(len(files))\n",
        "n=int(len(files)/2)\n",
        "print(n)"
      ],
      "metadata": {
        "colab": {
          "base_uri": "https://localhost:8080/"
        },
        "id": "IHsd7567eeio",
        "outputId": "23e340ef-1dbe-41e5-d369-97ef85064ca0"
      },
      "execution_count": 17,
      "outputs": [
        {
          "output_type": "stream",
          "name": "stdout",
          "text": [
            "232\n"
          ]
        }
      ]
    },
    {
      "cell_type": "code",
      "source": [
        "from shutil import copyfile\n",
        "import os\n",
        "\n",
        "# This is train data\n",
        "for i in range(n):\n",
        "    filename = files[nums[i]]\n",
        "    if filename not in ['.DS_Store', '.ipynb_checkpoints']:  # Skip these files\n",
        "        # Copy files in the MainDataset directory\n",
        "        source_main = os.path.join('./MainDataset', filename)\n",
        "        dest_main = os.path.join(PATH, 'train', 'MainDataset', filename)\n",
        "        copyfile(source_main, dest_main)\n",
        "\n",
        "        # Copy files in the Masked_images directory\n",
        "        source_masked = os.path.join('./Masked_images', filename)\n",
        "        dest_masked = os.path.join(PATH, 'train', 'Masked_images', filename)\n",
        "        copyfile(source_masked, dest_masked)\n"
      ],
      "metadata": {
        "id": "JJN5OY1OeiHo"
      },
      "execution_count": 18,
      "outputs": []
    },
    {
      "cell_type": "code",
      "source": [
        "from shutil import copyfile\n",
        "import os\n",
        "\n",
        "# This is train data\n",
        "for i in range(n+1, len(files)):\n",
        "    filename = files[nums[i]]\n",
        "    if filename not in ['.DS_Store', '.ipynb_checkpoints', '__pycache__', 'model_new.py']:  # Skip these files\n",
        "        # Copy files in the MainDataset directory\n",
        "        source_main = os.path.join('./MainDataset', filename)\n",
        "        dest_main = os.path.join(PATH, 'test', 'MainDataset', filename)\n",
        "        copyfile(source_main, dest_main)\n",
        "\n",
        "        # Copy files in the Masked_images directory\n",
        "        source_masked = os.path.join('./Masked_images', filename)\n",
        "        dest_masked = os.path.join(PATH, 'test', 'Masked_images', filename)\n",
        "        copyfile(source_masked, dest_masked)\n"
      ],
      "metadata": {
        "id": "3TmurIbChDdo"
      },
      "execution_count": 19,
      "outputs": []
    },
    {
      "cell_type": "code",
      "source": [
        "#Step 1: Load libraries for the U-net Model\n",
        "\n",
        "import skimage.io as io\n",
        "import skimage.transform as trans\n",
        "import numpy as np\n",
        "from tensorflow.keras.models import *\n",
        "from tensorflow.keras.layers import *\n",
        "from tensorflow.keras.optimizers import *\n",
        "from tensorflow.keras.callbacks import ModelCheckpoint, LearningRateScheduler\n",
        "from tensorflow.keras import backend as keras\n",
        "#from tensorflow import keras\n",
        "import tensorflow as tf\n",
        "from PIL import Image"
      ],
      "metadata": {
        "id": "jV4JTJxiiAqA"
      },
      "execution_count": 20,
      "outputs": []
    },
    {
      "cell_type": "code",
      "source": [
        "#Step 2: Import the U-net model\n",
        "from model_new import *\n",
        "img_size=(256,256)"
      ],
      "metadata": {
        "id": "IDf4MYEGiIk1"
      },
      "execution_count": 21,
      "outputs": []
    },
    {
      "cell_type": "code",
      "source": [
        "n_class=2"
      ],
      "metadata": {
        "id": "7GZncuN_iJwG"
      },
      "execution_count": 22,
      "outputs": []
    },
    {
      "cell_type": "code",
      "source": [
        "mod = Nest_Net(img_size[0],img_size[1],1,1,deep_supervision=False)"
      ],
      "metadata": {
        "id": "-G0tzMEdiMPX"
      },
      "execution_count": 23,
      "outputs": []
    },
    {
      "cell_type": "code",
      "source": [
        "#Step 3:Define functions for pre-processing data\n",
        "from tensorflow.keras.preprocessing.image import ImageDataGenerator\n",
        "import skimage.io as io\n",
        "import skimage.transform as trans\n",
        "import matplotlib.pyplot as plt\n",
        "import scipy.misc as sc\n",
        "\n",
        "\n",
        "def adjustData(img,mask,flag_multi_class,n_class):\n",
        "\n",
        "    if(flag_multi_class):\n",
        "        img /= 255\n",
        "        mask = mask[:,:,:,0] if(len(mask.shape) == 4) else mask[:,:,0]\n",
        "        new_mask = np.zeros(mask.shape + (n_class,))\n",
        "        for i in range(n_class):\n",
        "\n",
        "            new_mask[mask == i,i] = 1\n",
        "        new_mask = np.reshape(new_mask,(new_mask.shape[0],new_mask.shape[1]*new_mask.shape[2],new_mask.shape[3])) if flag_multi_class else np.reshape(new_mask,(new_mask.shape[0]*new_mask.shape[1],new_mask.shape[2]))\n",
        "        mask = new_mask\n",
        "    elif(np.max(img)>1):\n",
        "        img = img / 255\n",
        "        mask = mask /255\n",
        "    mask[mask > 0.5] = 1\n",
        "    mask[mask <= 0.5] = 0\n",
        "            #print(np.shape(mask),np.shape(img))\n",
        "    return (img,mask)\n",
        "\n",
        "def trainGenerator(batch_size,train_path,image_folder,mask_folder,aug_dict,image_color_mode = \"grayscale\",\n",
        "                    mask_color_mode = \"grayscale\",image_save_prefix  = \"image\",mask_save_prefix  = \"mask\",\n",
        "                    flag_multi_class = False,n_class = n_class,save_to_dir = None,target_size = img_size,seed = 1):\n",
        "    '''\n",
        "    can generate image and mask at the same time\n",
        "    use the same seed for image_datagen and mask_datagen to ensure the transformation for image and mask is the same\n",
        "    if you want to visualize the results of generator, set save_to_dir = \"your path\"\n",
        "    '''\n",
        "    image_datagen = ImageDataGenerator(**aug_dict)\n",
        "    mask_datagen = ImageDataGenerator(**aug_dict)\n",
        "    image_generator = image_datagen.flow_from_directory(\n",
        "        #'./',\n",
        "        train_path,\n",
        "        classes = [image_folder],\n",
        "        color_mode = image_color_mode,\n",
        "        target_size = target_size,\n",
        "        batch_size = batch_size,\n",
        "        save_to_dir = save_to_dir,\n",
        "        save_prefix  = image_save_prefix,\n",
        "        class_mode=None,\n",
        "        seed = seed)\n",
        "    mask_generator = mask_datagen.flow_from_directory(\n",
        "        train_path,\n",
        "        classes = [mask_folder],\n",
        "        color_mode = mask_color_mode,\n",
        "        target_size = target_size,\n",
        "        batch_size = batch_size,\n",
        "        save_to_dir = save_to_dir,\n",
        "        save_prefix  = mask_save_prefix,\n",
        "        class_mode=None,\n",
        "        seed = seed)\n",
        "    train_generator = zip(image_generator, mask_generator)\n",
        "    for (img,mask) in train_generator:\n",
        "        img,mask = adjustData(img,mask,flag_multi_class,n_class)\n",
        "        yield (img,mask)\n",
        "\n",
        "def testGenerator(test_path,target_size = img_size,flag_multi_class = True,as_gray = True):\n",
        "    files=sorted(os.listdir(test_path))\n",
        "    num_image=len(files)\n",
        "    for i in range(num_image):\n",
        "        img = io.imread(os.path.join(test_path,files[i]),as_gray = as_gray)\n",
        "        print(files[i])\n",
        "        img = trans.resize(img,target_size)\n",
        "        img = np.reshape(img,img.shape+(1,)) if (not flag_multi_class) else img\n",
        "        img = np.reshape(img,(1,)+img.shape)\n",
        "        #print(np.max(img))\n",
        "        yield img"
      ],
      "metadata": {
        "id": "qYaVjnHGiRA1"
      },
      "execution_count": 25,
      "outputs": []
    },
    {
      "cell_type": "code",
      "source": [
        "#Step 4: Define function to save the test images\n",
        "def labelVisualize(num_class,color_dict,img):\n",
        "    img = img[:,:,0] if len(img.shape) == 3 else img\n",
        "    img_out = np.zeros(img.shape + (3,))\n",
        "    for i in range(num_class):\n",
        "        img_out[img == i] = color_dict[i]\n",
        "\n",
        "    return img_out\n",
        "\n",
        "\n",
        "def saveResult(img_path,save_path,npyfile,flag_multi_class = False,num_class = 2):\n",
        "    files=os.listdir(img_path)\n",
        "    #print(len(img_path))\n",
        "    #print(len(npyfile))\n",
        "\n",
        "    for i,item in enumerate(npyfile):\n",
        "        img = labelVisualize(num_class,COLOR_DICT,item) if flag_multi_class else item[:,:,0]\n",
        "        #img1=np.array(((img - np.min(img))/np.ptp(img))>0.6).astype(float)\n",
        "        img[img>0.5]=1\n",
        "        img[img<=0.5]=0\n",
        "        io.imsave(os.path.join(save_path, files[i]),img)\n",
        "\n",
        "\n",
        "\n",
        "# def SaveResultwImage(img_path,save_path,npyfile,target_size=img_size,flag_multi_class = False,num_class = 2):\n",
        "#     files=os.listdir(img_path)\n",
        "#     #print(len(img_path))\n",
        "#     #print(len(npyfile))\n",
        "\n",
        "#     for i,item in enumerate(npyfile):\n",
        "#         img = labelVisualize(num_class,COLOR_DICT,item) if flag_multi_class else item[:,:,0]\n",
        "#         #img1=np.array(((img - np.min(img))/np.ptp(img))>0.6).astype(float)\n",
        "#         img[img>0.2]=1\n",
        "#         img[img<=0.2]=0\n",
        "\n",
        "#         I = io.imread(os.path.join(img_path,files[i]), as_gray=True)\n",
        "#         I = trans.resize(I,target_size)\n",
        "#         #dst = cv2.addWeighted(img, 0.5, I, 0.5, 0.0)\n",
        "#         img=np.true_divide((I+img),2)\n",
        "#         io.imsave(os.path.join(save_path, files[i]),img)\n",
        "\n",
        "def SaveResultwImage(img_path, save_path, npyfile, target_size=img_size, flag_multi_class=False, num_class=2):\n",
        "    files = [f for f in os.listdir(img_path) if f.endswith(('.png', '.jpg', '.jpeg'))]  # Filter to include only image files\n",
        "    files.sort()  # Ensure files are in a predictable order\n",
        "\n",
        "    if len(files) != len(npyfile):\n",
        "        print(f\"Warning: Mismatch in number of files and predictions ({len(files)} files vs {len(npyfile)} predictions)\")\n",
        "        return  # Optionally handle this more gracefully\n",
        "\n",
        "    for i, item in enumerate(npyfile):\n",
        "        if flag_multi_class:\n",
        "            img = labelVisualize(num_class, COLOR_DICT, item)\n",
        "        else:\n",
        "            img = np.squeeze(item)  # Assuming item is already in the correct 2D shape (256, 256)\n",
        "\n",
        "        img[img > 0.2] = 1\n",
        "        img[img <= 0.2] = 0\n",
        "\n",
        "        I = io.imread(os.path.join(img_path, files[i]), as_gray=True)\n",
        "        I = trans.resize(I, target_size)\n",
        "        img = np.true_divide((I + img), 2)\n",
        "\n",
        "        # Convert img to an 8-bit image and save as JPEG\n",
        "        img_pil = Image.fromarray((img * 255).astype(np.uint8))  # Scale to 0-255 range and convert to uint8\n",
        "        if img_pil.mode != 'RGB':\n",
        "            img_pil = img_pil.convert('RGB')  # Convert to RGB if not already\n",
        "\n",
        "        img_pil.save(os.path.join(save_path, files[i]), format='JPEG')"
      ],
      "metadata": {
        "id": "YhrvIiHrifGG"
      },
      "execution_count": 26,
      "outputs": []
    },
    {
      "cell_type": "code",
      "source": [
        "#Step 5: Define functions to evaluate the output\n",
        "import sklearn.metrics as sm\n",
        "\n",
        "def get_confusion_matrix_elements(groundtruth_list, predicted_list):\n",
        "    \"\"\"returns confusion matrix elements i.e TN, FP, FN, TP as floats\n",
        "\tSee example code for helper function definitions\n",
        "    \"\"\"\n",
        "    tn, fp, fn, tp = sm.confusion_matrix(groundtruth_list, predicted_list,labels=[0,1]).ravel()\n",
        "    tn, fp, fn, tp = np.float64(tn), np.float64(fp), np.float64(fn), np.float64(tp)\n",
        "\n",
        "    return tn, fp, fn, tp\n",
        "\n",
        "def get_prec_rec_IoU_accuracy(groundtruth_list, predicted_list):\n",
        "    \"\"\"returns precision, recall, IoU and accuracy metrics\n",
        "\t\"\"\"\n",
        "    tn, fp, fn, tp = get_confusion_matrix_elements(groundtruth_list, predicted_list)\n",
        "\n",
        "    total = tp + fp + fn + tn\n",
        "    accuracy = (tp + tn) / total\n",
        "    prec=tp/(tp+fp)\n",
        "    rec=tp/(tp+fn)\n",
        "    IoU=tp/(tp+fp+fn)\n",
        "\n",
        "    return prec,rec,IoU,accuracy\n",
        "\n",
        "def get_f1_score(groundtruth_list, predicted_list):\n",
        "    \"\"\"Return f1 score covering edge cases\"\"\"\n",
        "\n",
        "    tn, fp, fn, tp = get_confusion_matrix_elements(groundtruth_list, predicted_list)\n",
        "\n",
        "    f1_score = (2 * tp) / ((2 * tp) + fp + fn)\n",
        "\n",
        "    return f1_score\n",
        "\n",
        "def get_validation_metrics(groundtruth,predicted):\n",
        "    \"\"\"Return all output metrics. Input is binary images\"\"\"\n",
        "\n",
        "    u,v=np.shape(groundtruth)\n",
        "    groundtruth_list=np.reshape(groundtruth,(u*v,))\n",
        "    predicted_list=np.reshape(predicted,(u*v,))\n",
        "    prec,rec,IoU,acc=get_prec_rec_IoU_accuracy(groundtruth_list, predicted_list)\n",
        "    f1_score=get_f1_score(groundtruth_list, predicted_list)\n",
        "   # print(\"Precision=\",prec, \"Recall=\",rec, \"IoU=\",IoU, \"acc=\",acc, \"F1=\",f1_score)\n",
        "    return prec,rec,IoU,acc,f1_score\n",
        "\n",
        "def evalResult(gth_path,npyfile,target_size=img_size,flag_multi_class = False,num_class = 2):\n",
        "    files=sorted(os.listdir(gth_path))\n",
        "    #print(files)\n",
        "    prec=0\n",
        "    rec=0\n",
        "    acc=0\n",
        "    IoU=0\n",
        "    f1_score=0\n",
        "    for i,item in enumerate(npyfile):\n",
        "        print(item.shape)\n",
        "        img = item[:,:,0]\n",
        "        gth = io.imread(os.path.join(gth_path,files[i]))\n",
        "        gth = trans.resize(gth,target_size)\n",
        "        if(np.sum(img)>0):\n",
        "            img=np.array(((img - np.min(img))/np.ptp(img))>0.1).astype(float)\n",
        "        if(np.sum(gth)>0):\n",
        "            gth=np.array(((gth - np.min(gth))/np.ptp(gth))>0.1).astype(float)\n",
        "            gth=(gth>0.1).astype(int)\n",
        "        p,r,I,a,f=get_validation_metrics(gth,img)\n",
        "        if (np.isnan(p)):\n",
        "          p=1\n",
        "        prec=prec+p\n",
        "        rec=rec+r\n",
        "        acc=acc+a\n",
        "        IoU=IoU+I\n",
        "        f1_score=f1_score+f\n",
        "    print(\"Precision=\",prec/(i+1), \"Recall=\",rec/(i+1), \"Jac=\",IoU/(i+1), \"acc=\",acc/(i+1), \"Dice=\",f1_score/(i+1))"
      ],
      "metadata": {
        "id": "e0EvPxrgioOm"
      },
      "execution_count": 27,
      "outputs": []
    },
    {
      "cell_type": "code",
      "source": [
        "print(os.getcwd())"
      ],
      "metadata": {
        "colab": {
          "base_uri": "https://localhost:8080/"
        },
        "id": "yxTQIB_uis0A",
        "outputId": "7bdf1640-1c17-484c-c47a-3820be722c96"
      },
      "execution_count": 28,
      "outputs": [
        {
          "output_type": "stream",
          "name": "stdout",
          "text": [
            "/content/gdrive/MyDrive\n"
          ]
        }
      ]
    },
    {
      "cell_type": "code",
      "source": [
        "#Step 1: Call to image data generator in keras\n",
        "\n",
        "data_gen_args = dict(rotation_range=0.2,\n",
        "                     rescale=1./255,\n",
        "                    width_shift_range=0.2,\n",
        "                    height_shift_range=0.2,\n",
        "                    shear_range=0.1,\n",
        "                    zoom_range=[0.8,1],\n",
        "                    horizontal_flip=True,\n",
        "                    vertical_flip=True,\n",
        "                    fill_mode='nearest')\n",
        "PATH='./train/'"
      ],
      "metadata": {
        "id": "MFBGzqpdivvd"
      },
      "execution_count": 29,
      "outputs": []
    },
    {
      "cell_type": "code",
      "source": [
        "data_gen = trainGenerator(1,PATH,'MainDataset','Masked_images',data_gen_args, save_to_dir = None)"
      ],
      "metadata": {
        "id": "qzYyxvGCi0lY"
      },
      "execution_count": 30,
      "outputs": []
    },
    {
      "cell_type": "code",
      "source": [
        "for e in range(5):\n",
        "    print('Epoch', e)\n",
        "    batches = 0\n",
        "    for x_batch, y_batch in data_gen:\n",
        "        print(np.max(y_batch))\n",
        "        plt.imshow(np.squeeze(y_batch), cmap=plt.get_cmap('gray'))\n",
        "\n",
        "\n",
        "        plt.show()\n",
        "\n",
        "        break"
      ],
      "metadata": {
        "colab": {
          "base_uri": "https://localhost:8080/",
          "height": 1000
        },
        "id": "BgFe-09xi6cX",
        "outputId": "037ff2a2-faf8-48a5-bbbd-2de6a847daf8"
      },
      "execution_count": 31,
      "outputs": [
        {
          "output_type": "stream",
          "name": "stdout",
          "text": [
            "Epoch 0\n",
            "Found 427 images belonging to 1 classes.\n",
            "Found 427 images belonging to 1 classes.\n",
            "1.0\n"
          ]
        },
        {
          "output_type": "display_data",
          "data": {
            "text/plain": [
              "<Figure size 640x480 with 1 Axes>"
            ],
            "image/png": "[encoded data removed]"
          },
          "metadata": {}
        },
        {
          "output_type": "stream",
          "name": "stdout",
          "text": [
            "Epoch 1\n",
            "1.0\n"
          ]
        },
        {
          "output_type": "display_data",
          "data": {
            "text/plain": [
              "<Figure size 640x480 with 1 Axes>"
            ],
            "image/png": "[encoded data removed]"
          },
          "metadata": {}
        },
        {
          "output_type": "stream",
          "name": "stdout",
          "text": [
            "Epoch 2\n",
            "1.0\n"
          ]
        },
        {
          "output_type": "display_data",
          "data": {
            "text/plain": [
              "<Figure size 640x480 with 1 Axes>"
            ],
            "image/png": "[encoded data removed]"
          },
          "metadata": {}
        },
        {
          "output_type": "stream",
          "name": "stdout",
          "text": [
            "Epoch 3\n",
            "1.0\n"
          ]
        },
        {
          "output_type": "display_data",
          "data": {
            "text/plain": [
              "<Figure size 640x480 with 1 Axes>"
            ],
            "image/png": "[encoded data removed]"
          },
          "metadata": {}
        },
        {
          "output_type": "stream",
          "name": "stdout",
          "text": [
            "Epoch 4\n",
            "1.0\n"
          ]
        },
        {
          "output_type": "display_data",
          "data": {
            "text/plain": [
              "<Figure size 640x480 with 1 Axes>"
            ],
            "image/png": "[encoded data removed]"
          },
          "metadata": {}
        }
      ]
    },
    {
      "cell_type": "code",
      "source": [
        "#Step 2: Initialize the model. Train from scratch!\n",
        "# Initialize model like you usually do.\n",
        "\n",
        "mod.compile(optimizer = Adam(learning_rate=0.00001), loss = dice_coef_loss, metrics = dice_coef)"
      ],
      "metadata": {
        "id": "Vc6HnWcRjEMg"
      },
      "execution_count": 32,
      "outputs": []
    },
    {
      "cell_type": "code",
      "source": [
        "# Notice WandbCallback is used as a regular callback\n",
        "# We again use config\n",
        "hist = mod.fit(data_gen,steps_per_epoch=10,epochs=20,verbose=1)\n",
        "          #        mod.fit(x_train, y_train,\n",
        "          # epochs=50,\n",
        "          # batch_size=5, verbose=1)"
      ],
      "metadata": {
        "colab": {
          "base_uri": "https://localhost:8080/"
        },
        "id": "HkNRg4OUjGtz",
        "outputId": "95b5cbb0-17aa-49bc-bf9a-108cbcd4b1f3"
      },
      "execution_count": 33,
      "outputs": [
        {
          "output_type": "stream",
          "name": "stdout",
          "text": [
            "Epoch 1/20\n",
            "10/10 [==============================] - 105s 9s/step - loss: -0.0755 - dice_coef: 0.0755\n",
            "Epoch 2/20\n",
            "10/10 [==============================] - 76s 8s/step - loss: -0.1005 - dice_coef: 0.1005\n",
            "Epoch 3/20\n",
            "10/10 [==============================] - 78s 8s/step - loss: -0.1050 - dice_coef: 0.1050\n",
            "Epoch 4/20\n",
            "10/10 [==============================] - 76s 8s/step - loss: -0.1202 - dice_coef: 0.1202\n",
            "Epoch 5/20\n",
            "10/10 [==============================] - 74s 7s/step - loss: -0.0799 - dice_coef: 0.0799\n",
            "Epoch 6/20\n",
            "10/10 [==============================] - 77s 8s/step - loss: -0.1272 - dice_coef: 0.1272\n",
            "Epoch 7/20\n",
            "10/10 [==============================] - 78s 8s/step - loss: -0.1113 - dice_coef: 0.1113\n",
            "Epoch 8/20\n",
            "10/10 [==============================] - 74s 7s/step - loss: -0.1266 - dice_coef: 0.1266\n",
            "Epoch 9/20\n",
            "10/10 [==============================] - 87s 8s/step - loss: -0.1204 - dice_coef: 0.1204\n",
            "Epoch 10/20\n",
            "10/10 [==============================] - 79s 8s/step - loss: -0.1221 - dice_coef: 0.1221\n",
            "Epoch 11/20\n",
            "10/10 [==============================] - 76s 7s/step - loss: -0.0855 - dice_coef: 0.0855\n",
            "Epoch 12/20\n",
            "10/10 [==============================] - 73s 7s/step - loss: -0.1294 - dice_coef: 0.1294\n",
            "Epoch 13/20\n",
            "10/10 [==============================] - 78s 8s/step - loss: -0.1511 - dice_coef: 0.1511\n",
            "Epoch 14/20\n",
            "10/10 [==============================] - 73s 7s/step - loss: -0.1355 - dice_coef: 0.1355\n",
            "Epoch 15/20\n",
            "10/10 [==============================] - 76s 7s/step - loss: -0.1170 - dice_coef: 0.1170\n",
            "Epoch 16/20\n",
            "10/10 [==============================] - 77s 8s/step - loss: -0.1264 - dice_coef: 0.1264\n",
            "Epoch 17/20\n",
            "10/10 [==============================] - 86s 8s/step - loss: -0.0638 - dice_coef: 0.0638\n",
            "Epoch 18/20\n",
            "10/10 [==============================] - 76s 8s/step - loss: -0.1179 - dice_coef: 0.1179\n",
            "Epoch 19/20\n",
            "10/10 [==============================] - 75s 8s/step - loss: -0.1384 - dice_coef: 0.1384\n",
            "Epoch 20/20\n",
            "10/10 [==============================] - 76s 8s/step - loss: -0.1921 - dice_coef: 0.1921\n"
          ]
        }
      ]
    },
    {
      "cell_type": "code",
      "source": [
        "#Step 1: Run model on test images and save the images\n",
        "#number of test images\n",
        "n_i=len(os.listdir('./test/MainDataset/'))\n",
        "#Call test generator\n",
        "test_gen= testGenerator('./test/MainDataset/')"
      ],
      "metadata": {
        "id": "eqUoKFN7pXnI"
      },
      "execution_count": 35,
      "outputs": []
    },
    {
      "cell_type": "code",
      "source": [
        "#Return model outcome for each test image\n",
        "results = mod.predict_generator(test_gen,n_i,verbose=1)"
      ],
      "metadata": {
        "colab": {
          "base_uri": "https://localhost:8080/"
        },
        "id": "sojtjQHgpqsz",
        "outputId": "71a4a7ed-18a7-483a-bb0e-8eaf50d2d126"
      },
      "execution_count": 36,
      "outputs": [
        {
          "output_type": "stream",
          "name": "stderr",
          "text": [
            "<ipython-input-36-ea1ab214b1d0>:2: UserWarning: `Model.predict_generator` is deprecated and will be removed in a future version. Please use `Model.predict`, which supports generators.\n",
            "  results = mod.predict_generator(test_gen,n_i,verbose=1)\n"
          ]
        },
        {
          "output_type": "stream",
          "name": "stdout",
          "text": [
            "aedes (104).jpg\n",
            "aedes (105).jpg\n",
            "aedes (107).jpg\n",
            "  1/231 [..............................] - ETA: 17:41aedes (109).jpg\n",
            "  2/231 [..............................] - ETA: 5:28 aedes (11).jpg\n",
            "  3/231 [..............................] - ETA: 5:15aedes (110).jpg\n",
            "  4/231 [..............................] - ETA: 5:09aedes (111).jpg\n",
            "  5/231 [..............................] - ETA: 5:06aedes (117).jpg\n",
            "  6/231 [..............................] - ETA: 5:04aedes (119).jpg\n",
            "  7/231 [..............................] - ETA: 5:16aedes (12).jpg\n",
            "  8/231 [>.............................] - ETA: 5:39aedes (120).jpg\n",
            "  9/231 [>.............................] - ETA: 5:56aedes (122).jpg\n",
            " 10/231 [>.............................] - ETA: 5:59aedes (125).jpg\n",
            " 11/231 [>.............................] - ETA: 5:50aedes (126).jpg\n",
            " 12/231 [>.............................] - ETA: 5:43aedes (132).jpg\n",
            " 13/231 [>.............................] - ETA: 5:37aedes (134).jpg\n",
            " 14/231 [>.............................] - ETA: 5:32aedes (138).jpg\n",
            " 15/231 [>.............................] - ETA: 5:27aedes (141).jpg\n",
            " 16/231 [=>............................] - ETA: 5:20aedes (144).jpg\n",
            " 17/231 [=>............................] - ETA: 5:16aedes (145).jpg\n",
            " 18/231 [=>............................] - ETA: 5:22aedes (147).jpg\n",
            " 19/231 [=>............................] - ETA: 5:29aedes (15).jpg\n",
            " 20/231 [=>............................] - ETA: 5:35aedes (150).jpg\n",
            " 21/231 [=>............................] - ETA: 5:30aedes (151).jpg\n",
            " 22/231 [=>............................] - ETA: 5:26aedes (156).jpg\n",
            " 23/231 [=>............................] - ETA: 5:22aedes (163).jpg\n",
            " 24/231 [==>...........................] - ETA: 5:18aedes (165).jpg\n",
            " 25/231 [==>...........................] - ETA: 5:15aedes (17).jpg\n",
            " 26/231 [==>...........................] - ETA: 5:17aedes (171).jpg\n",
            " 27/231 [==>...........................] - ETA: 5:21aedes (172).jpg\n",
            " 28/231 [==>...........................] - ETA: 5:29aedes (179).jpg\n",
            " 29/231 [==>...........................] - ETA: 5:34aedes (18).jpg\n",
            " 30/231 [==>...........................] - ETA: 5:37aedes (181).jpg\n",
            " 31/231 [===>..........................] - ETA: 5:34aedes (184).jpg\n",
            " 32/231 [===>..........................] - ETA: 5:30aedes (187).jpg\n",
            " 33/231 [===>..........................] - ETA: 5:28aedes (190).jpg\n",
            " 34/231 [===>..........................] - ETA: 5:25aedes (191).jpg\n",
            " 35/231 [===>..........................] - ETA: 5:21aedes (192).jpg\n",
            " 36/231 [===>..........................] - ETA: 5:18aedes (194).jpg\n",
            " 37/231 [===>..........................] - ETA: 5:14aedes (196).jpg\n",
            " 38/231 [===>..........................] - ETA: 5:13aedes (197).jpg\n",
            " 39/231 [====>.........................] - ETA: 5:15aedes (198).jpg\n",
            " 40/231 [====>.........................] - ETA: 5:16aedes (20).jpg\n",
            " 41/231 [====>.........................] - ETA: 5:14aedes (201).jpg\n",
            " 42/231 [====>.........................] - ETA: 5:11aedes (206).jpg\n",
            " 43/231 [====>.........................] - ETA: 5:08aedes (212).jpg\n",
            " 44/231 [====>.........................] - ETA: 5:05aedes (218).jpg\n",
            " 45/231 [====>.........................] - ETA: 5:02aedes (23).jpg\n",
            " 46/231 [====>.........................] - ETA: 4:59aedes (232).jpg\n",
            " 47/231 [=====>........................] - ETA: 4:56aedes (236).jpg\n",
            " 48/231 [=====>........................] - ETA: 4:54aedes (238).jpg\n",
            " 49/231 [=====>........................] - ETA: 4:55aedes (241).jpg\n",
            " 50/231 [=====>........................] - ETA: 4:55aedes (245).jpg\n",
            " 51/231 [=====>........................] - ETA: 4:57aedes (247).jpg\n",
            " 52/231 [=====>........................] - ETA: 4:54aedes (248).jpg\n",
            " 53/231 [=====>........................] - ETA: 4:51aedes (250).jpg\n",
            " 54/231 [======>.......................] - ETA: 4:48aedes (253).jpg\n",
            " 55/231 [======>.......................] - ETA: 4:45aedes (257).jpg\n",
            " 56/231 [======>.......................] - ETA: 4:43aedes (260).jpg\n",
            " 57/231 [======>.......................] - ETA: 4:40aedes (262).jpg\n",
            " 58/231 [======>.......................] - ETA: 4:37aedes (263).jpg\n",
            " 59/231 [======>.......................] - ETA: 4:37aedes (266).jpg\n",
            " 60/231 [======>.......................] - ETA: 4:37aedes (268).jpg\n",
            " 61/231 [======>.......................] - ETA: 4:37aedes (274).jpg\n",
            " 62/231 [=======>......................] - ETA: 4:35aedes (280).jpg\n",
            " 63/231 [=======>......................] - ETA: 4:32aedes (283).jpg\n",
            " 64/231 [=======>......................] - ETA: 4:30aedes (284).jpg\n",
            " 65/231 [=======>......................] - ETA: 4:28aedes (29).jpg\n",
            " 66/231 [=======>......................] - ETA: 4:25aedes (290).jpg\n",
            " 67/231 [=======>......................] - ETA: 4:23aedes (292).jpg\n",
            " 68/231 [=======>......................] - ETA: 4:21aedes (293).jpg\n",
            " 69/231 [=======>......................] - ETA: 4:19aedes (298).jpg\n",
            " 70/231 [========>.....................] - ETA: 4:19aedes (3).jpg\n",
            " 71/231 [========>.....................] - ETA: 4:18aedes (30).jpg\n",
            " 72/231 [========>.....................] - ETA: 4:17aedes (302).jpg\n",
            " 73/231 [========>.....................] - ETA: 4:15aedes (304).jpg\n",
            " 74/231 [========>.....................] - ETA: 4:12aedes (305).jpg\n",
            " 75/231 [========>.....................] - ETA: 4:10aedes (307).jpg\n",
            " 76/231 [========>.....................] - ETA: 4:08aedes (308).jpg\n",
            " 77/231 [=========>....................] - ETA: 4:06aedes (310).jpg\n",
            " 78/231 [=========>....................] - ETA: 4:03aedes (311).jpg\n",
            " 79/231 [=========>....................] - ETA: 4:01aedes (319).jpg\n",
            " 80/231 [=========>....................] - ETA: 4:00aedes (32).jpg\n",
            " 81/231 [=========>....................] - ETA: 4:00aedes (320).jpg\n",
            " 82/231 [=========>....................] - ETA: 3:59aedes (322).jpg\n",
            " 83/231 [=========>....................] - ETA: 3:57aedes (323).jpg\n",
            " 84/231 [=========>....................] - ETA: 3:55aedes (328).jpg\n",
            " 85/231 [==========>...................] - ETA: 3:53aedes (331).jpg\n",
            " 86/231 [==========>...................] - ETA: 3:51aedes (332).jpg\n",
            " 87/231 [==========>...................] - ETA: 3:49aedes (334).jpg\n",
            " 88/231 [==========>...................] - ETA: 3:47aedes (335).jpg\n",
            " 89/231 [==========>...................] - ETA: 3:45aedes (338).jpg\n",
            " 90/231 [==========>...................] - ETA: 3:43aedes (350).jpg\n",
            " 91/231 [==========>...................] - ETA: 3:43aedes (352).jpg\n",
            " 92/231 [==========>...................] - ETA: 3:42aedes (353).jpg\n",
            " 93/231 [===========>..................] - ETA: 3:41aedes (357).jpg\n",
            " 94/231 [===========>..................] - ETA: 3:39aedes (36).jpg\n",
            " 95/231 [===========>..................] - ETA: 3:37aedes (360).jpg\n",
            " 96/231 [===========>..................] - ETA: 3:35aedes (361).jpg\n",
            " 97/231 [===========>..................] - ETA: 3:32aedes (363).jpg\n",
            " 98/231 [===========>..................] - ETA: 3:31aedes (364).jpg\n",
            " 99/231 [===========>..................] - ETA: 3:29aedes (365).jpg\n",
            "100/231 [===========>..................] - ETA: 3:27aedes (368).jpg\n",
            "101/231 [============>.................] - ETA: 3:26aedes (41).jpg\n",
            "102/231 [============>.................] - ETA: 3:25aedes (44).jpg\n",
            "103/231 [============>.................] - ETA: 3:24aedes (45).jpg\n",
            "104/231 [============>.................] - ETA: 3:22aedes (47).jpg\n",
            "105/231 [============>.................] - ETA: 3:20aedes (48).jpg\n",
            "106/231 [============>.................] - ETA: 3:18aedes (5).jpg\n",
            "107/231 [============>.................] - ETA: 3:16aedes (54).jpg\n",
            "108/231 [=============>................] - ETA: 3:15aedes (56).jpg\n",
            "109/231 [=============>................] - ETA: 3:13aedes (57).jpg\n",
            "110/231 [=============>................] - ETA: 3:11aedes (59).jpg\n",
            "111/231 [=============>................] - ETA: 3:09aedes (60).jpg\n",
            "112/231 [=============>................] - ETA: 3:08aedes (77).jpg\n",
            "113/231 [=============>................] - ETA: 3:07aedes (79).jpg\n",
            "114/231 [=============>................] - ETA: 3:06aedes (8).jpg\n",
            "115/231 [=============>................] - ETA: 3:04aedes (82).jpg\n",
            "116/231 [==============>...............] - ETA: 3:02aedes (84).jpg\n",
            "117/231 [==============>...............] - ETA: 3:00aedes (85).jpg\n",
            "118/231 [==============>...............] - ETA: 2:58aedes (86).jpg\n",
            "119/231 [==============>...............] - ETA: 2:57aedes (87).jpg\n",
            "120/231 [==============>...............] - ETA: 2:55aedes (91).jpg\n",
            "121/231 [==============>...............] - ETA: 2:53aedes (95).jpg\n",
            "122/231 [==============>...............] - ETA: 2:52aedes (96).jpg\n",
            "123/231 [==============>...............] - ETA: 2:51aedes (99).jpg\n",
            "124/231 [===============>..............] - ETA: 2:50nonaedes (101).jpg\n",
            "125/231 [===============>..............] - ETA: 2:48nonaedes (107).jpg\n",
            "126/231 [===============>..............] - ETA: 2:46nonaedes (111).jpg\n",
            "127/231 [===============>..............] - ETA: 2:44nonaedes (113).jpg\n",
            "128/231 [===============>..............] - ETA: 2:42nonaedes (117).jpg\n",
            "129/231 [===============>..............] - ETA: 2:40nonaedes (119).jpg\n",
            "130/231 [===============>..............] - ETA: 2:38nonaedes (122).jpg\n",
            "131/231 [================>.............] - ETA: 2:37nonaedes (123).jpg\n",
            "132/231 [================>.............] - ETA: 2:35nonaedes (125).jpg\n",
            "133/231 [================>.............] - ETA: 2:33nonaedes (126).jpg\n",
            "134/231 [================>.............] - ETA: 2:32nonaedes (128).jpg\n",
            "135/231 [================>.............] - ETA: 2:30nonaedes (135).jpg\n",
            "136/231 [================>.............] - ETA: 2:29nonaedes (138).jpg\n",
            "137/231 [================>.............] - ETA: 2:27nonaedes (14).jpg\n",
            "138/231 [================>.............] - ETA: 2:25nonaedes (140).jpg\n",
            "139/231 [=================>............] - ETA: 2:24nonaedes (141).jpg\n",
            "140/231 [=================>............] - ETA: 2:22nonaedes (143).jpg\n",
            "141/231 [=================>............] - ETA: 2:20nonaedes (144).jpg\n",
            "142/231 [=================>............] - ETA: 2:18nonaedes (147).jpg\n",
            "143/231 [=================>............] - ETA: 2:16nonaedes (15).jpg\n",
            "144/231 [=================>............] - ETA: 2:14nonaedes (152).jpg\n",
            "145/231 [=================>............] - ETA: 2:13nonaedes (153).jpg\n",
            "146/231 [=================>............] - ETA: 2:12nonaedes (156).jpg\n",
            "147/231 [==================>...........] - ETA: 2:10nonaedes (158).jpg\n",
            "148/231 [==================>...........] - ETA: 2:09nonaedes (168).jpg\n",
            "149/231 [==================>...........] - ETA: 2:07nonaedes (170).jpg\n",
            "150/231 [==================>...........] - ETA: 2:05nonaedes (176).jpg\n",
            "151/231 [==================>...........] - ETA: 2:03nonaedes (180).jpg\n",
            "152/231 [==================>...........] - ETA: 2:02nonaedes (182).jpg\n",
            "153/231 [==================>...........] - ETA: 2:00nonaedes (189).jpg\n",
            "154/231 [===================>..........] - ETA: 1:58nonaedes (190).jpg\n",
            "155/231 [===================>..........] - ETA: 1:56nonaedes (2).jpg\n",
            "156/231 [===================>..........] - ETA: 1:55nonaedes (202).jpg\n",
            "157/231 [===================>..........] - ETA: 1:53nonaedes (206).jpg\n",
            "158/231 [===================>..........] - ETA: 1:52nonaedes (208).jpg\n",
            "159/231 [===================>..........] - ETA: 1:50nonaedes (211).jpg\n",
            "160/231 [===================>..........] - ETA: 1:49nonaedes (214).jpg\n",
            "161/231 [===================>..........] - ETA: 1:47nonaedes (220).jpg\n",
            "162/231 [====================>.........] - ETA: 1:46nonaedes (221).jpg\n",
            "163/231 [====================>.........] - ETA: 1:44nonaedes (223).jpg\n",
            "164/231 [====================>.........] - ETA: 1:42nonaedes (224).jpg\n",
            "165/231 [====================>.........] - ETA: 1:41nonaedes (229).jpg\n",
            "166/231 [====================>.........] - ETA: 1:39nonaedes (23).jpg\n",
            "167/231 [====================>.........] - ETA: 1:37nonaedes (232).jpg\n",
            "168/231 [====================>.........] - ETA: 1:36nonaedes (235).jpg\n",
            "169/231 [====================>.........] - ETA: 1:35nonaedes (236).jpg\n",
            "170/231 [=====================>........] - ETA: 1:33nonaedes (238).jpg\n",
            "171/231 [=====================>........] - ETA: 1:32nonaedes (24).jpg\n",
            "172/231 [=====================>........] - ETA: 1:30nonaedes (241).jpg\n",
            "173/231 [=====================>........] - ETA: 1:28nonaedes (242).jpg\n",
            "174/231 [=====================>........] - ETA: 1:27nonaedes (245).jpg\n",
            "175/231 [=====================>........] - ETA: 1:25nonaedes (248).jpg\n",
            "176/231 [=====================>........] - ETA: 1:23nonaedes (249).jpg\n",
            "177/231 [=====================>........] - ETA: 1:22nonaedes (257).jpg\n",
            "178/231 [======================>.......] - ETA: 1:20nonaedes (26).jpg\n",
            "179/231 [======================>.......] - ETA: 1:19nonaedes (260).jpg\n",
            "180/231 [======================>.......] - ETA: 1:17nonaedes (266).jpg\n",
            "181/231 [======================>.......] - ETA: 1:16nonaedes (27).jpg\n",
            "182/231 [======================>.......] - ETA: 1:14nonaedes (276).jpg\n",
            "183/231 [======================>.......] - ETA: 1:13nonaedes (278).jpg\n",
            "184/231 [======================>.......] - ETA: 1:11nonaedes (279).jpg\n",
            "185/231 [=======================>......] - ETA: 1:09nonaedes (281).jpg\n",
            "186/231 [=======================>......] - ETA: 1:08nonaedes (284).jpg\n",
            "187/231 [=======================>......] - ETA: 1:06nonaedes (285).jpg\n",
            "188/231 [=======================>......] - ETA: 1:05nonaedes (29).jpg\n",
            "189/231 [=======================>......] - ETA: 1:03nonaedes (294).jpg\n",
            "190/231 [=======================>......] - ETA: 1:01nonaedes (296).jpg\n",
            "191/231 [=======================>......] - ETA: 1:00nonaedes (297).jpg\n",
            "192/231 [=======================>......] - ETA: 58s nonaedes (299).jpg\n",
            "193/231 [========================>.....] - ETA: 57snonaedes (3).jpg\n",
            "194/231 [========================>.....] - ETA: 56snonaedes (30).jpg\n",
            "195/231 [========================>.....] - ETA: 54snonaedes (32).jpg\n",
            "196/231 [========================>.....] - ETA: 52snonaedes (35).jpg\n",
            "197/231 [========================>.....] - ETA: 51snonaedes (36).jpg\n",
            "198/231 [========================>.....] - ETA: 50snonaedes (38).jpg\n",
            "199/231 [========================>.....] - ETA: 48snonaedes (39).jpg\n",
            "200/231 [========================>.....] - ETA: 47snonaedes (42).jpg\n",
            "201/231 [=========================>....] - ETA: 45snonaedes (45).jpg\n",
            "202/231 [=========================>....] - ETA: 44snonaedes (47).jpg\n",
            "203/231 [=========================>....] - ETA: 42snonaedes (48).jpg\n",
            "204/231 [=========================>....] - ETA: 41snonaedes (5).jpg\n",
            "205/231 [=========================>....] - ETA: 39snonaedes (50).jpg\n",
            "206/231 [=========================>....] - ETA: 38snonaedes (54).jpg\n",
            "207/231 [=========================>....] - ETA: 36snonaedes (56).jpg\n",
            "208/231 [==========================>...] - ETA: 34snonaedes (57).jpg\n",
            "209/231 [==========================>...] - ETA: 33snonaedes (59).jpg\n",
            "210/231 [==========================>...] - ETA: 31snonaedes (62).jpg\n",
            "211/231 [==========================>...] - ETA: 30snonaedes (63).jpg\n",
            "212/231 [==========================>...] - ETA: 28snonaedes (65).jpg\n",
            "213/231 [==========================>...] - ETA: 27snonaedes (66).jpg\n",
            "214/231 [==========================>...] - ETA: 25snonaedes (69).jpg\n",
            "215/231 [==========================>...] - ETA: 24snonaedes (71).jpg\n",
            "216/231 [===========================>..] - ETA: 22snonaedes (74).jpg\n",
            "217/231 [===========================>..] - ETA: 21snonaedes (75).jpg\n",
            "218/231 [===========================>..] - ETA: 19snonaedes (77).jpg\n",
            "219/231 [===========================>..] - ETA: 18snonaedes (78).jpg\n",
            "220/231 [===========================>..] - ETA: 16snonaedes (8).jpg\n",
            "221/231 [===========================>..] - ETA: 15snonaedes (81).jpg\n",
            "222/231 [===========================>..] - ETA: 13snonaedes (83).jpg\n",
            "223/231 [===========================>..] - ETA: 12snonaedes (84).jpg\n",
            "224/231 [============================>.] - ETA: 10snonaedes (86).jpg\n",
            "225/231 [============================>.] - ETA: 9s nonaedes (87).jpg\n",
            "226/231 [============================>.] - ETA: 7snonaedes (89).jpg\n",
            "227/231 [============================>.] - ETA: 6snonaedes (96).jpg\n",
            "228/231 [============================>.] - ETA: 4snonaedes (98).jpg\n",
            "231/231 [==============================] - 350s 2s/step\n"
          ]
        }
      ]
    },
    {
      "cell_type": "code",
      "source": [
        "np.shape(results)"
      ],
      "metadata": {
        "colab": {
          "base_uri": "https://localhost:8080/",
          "height": 144
        },
        "id": "BduwZOzmrJ37",
        "outputId": "2d166d7b-18a3-46d5-945b-9d2b7cda1df0"
      },
      "execution_count": 4,
      "outputs": [
        {
          "output_type": "error",
          "ename": "NameError",
          "evalue": "name 'results' is not defined",
          "traceback": [
            "\u001b[0;31m---------------------------------------------------------------------------\u001b[0m",
            "\u001b[0;31mNameError\u001b[0m                                 Traceback (most recent call last)",
            "\u001b[0;32m<ipython-input-4-84997e190e32>\u001b[0m in \u001b[0;36m<cell line: 1>\u001b[0;34m()\u001b[0m\n\u001b[0;32m----> 1\u001b[0;31m \u001b[0mnp\u001b[0m\u001b[0;34m.\u001b[0m\u001b[0mshape\u001b[0m\u001b[0;34m(\u001b[0m\u001b[0mresults\u001b[0m\u001b[0;34m)\u001b[0m\u001b[0;34m\u001b[0m\u001b[0;34m\u001b[0m\u001b[0m\n\u001b[0m",
            "\u001b[0;31mNameError\u001b[0m: name 'results' is not defined"
          ]
        }
      ]
    },
    {
      "cell_type": "code",
      "source": [
        "#Lets save the STARE predictions\n",
        "SaveResultwImage('./test/MainDataset/','./pred/',results[3])"
      ],
      "metadata": {
        "colab": {
          "base_uri": "https://localhost:8080/"
        },
        "id": "SbzATCwUrXBl",
        "outputId": "e990708a-abe6-4ca3-8dff-a0cf54e7e7d9"
      },
      "execution_count": 63,
      "outputs": [
        {
          "output_type": "stream",
          "name": "stdout",
          "text": [
            "Warning: Mismatch in number of files and predictions (231 files vs 256 predictions)\n"
          ]
        }
      ]
    },
    {
      "cell_type": "code",
      "source": [
        "np.shape(results)"
      ],
      "metadata": {
        "colab": {
          "base_uri": "https://localhost:8080/"
        },
        "id": "5DZA8AgXvN8m",
        "outputId": "852c6b45-89ac-464e-af6f-dcf517b3c628"
      },
      "execution_count": 64,
      "outputs": [
        {
          "output_type": "execute_result",
          "data": {
            "text/plain": [
              "(231, 256, 256, 1)"
            ]
          },
          "metadata": {},
          "execution_count": 64
        }
      ]
    },
    {
      "cell_type": "code",
      "source": [
        "plt.imshow(results[5][:,:,0], cmap='gray')  # Use cmap='gray' to ensure it's displayed as grayscale\n",
        "plt.colorbar()  # Optional, to see the range of values\n",
        "plt.show()"
      ],
      "metadata": {
        "colab": {
          "base_uri": "https://localhost:8080/",
          "height": 180
        },
        "id": "YhLMcB_jvSdK",
        "outputId": "9778d172-85d7-4dc9-b9ea-4ed92ea0fc79"
      },
      "execution_count": 1,
      "outputs": [
        {
          "output_type": "error",
          "ename": "NameError",
          "evalue": "name 'plt' is not defined",
          "traceback": [
            "\u001b[0;31m---------------------------------------------------------------------------\u001b[0m",
            "\u001b[0;31mNameError\u001b[0m                                 Traceback (most recent call last)",
            "\u001b[0;32m<ipython-input-1-e7c797083ed6>\u001b[0m in \u001b[0;36m<cell line: 1>\u001b[0;34m()\u001b[0m\n\u001b[0;32m----> 1\u001b[0;31m \u001b[0mplt\u001b[0m\u001b[0;34m.\u001b[0m\u001b[0mimshow\u001b[0m\u001b[0;34m(\u001b[0m\u001b[0mresults\u001b[0m\u001b[0;34m[\u001b[0m\u001b[0;36m5\u001b[0m\u001b[0;34m]\u001b[0m\u001b[0;34m[\u001b[0m\u001b[0;34m:\u001b[0m\u001b[0;34m,\u001b[0m\u001b[0;34m:\u001b[0m\u001b[0;34m,\u001b[0m\u001b[0;36m0\u001b[0m\u001b[0;34m]\u001b[0m\u001b[0;34m)\u001b[0m  \u001b[0;31m# Use cmap='gray' to ensure it's displayed as grayscale\u001b[0m\u001b[0;34m\u001b[0m\u001b[0;34m\u001b[0m\u001b[0m\n\u001b[0m\u001b[1;32m      2\u001b[0m \u001b[0mplt\u001b[0m\u001b[0;34m.\u001b[0m\u001b[0mcolorbar\u001b[0m\u001b[0;34m(\u001b[0m\u001b[0;34m)\u001b[0m  \u001b[0;31m# Optional, to see the range of values\u001b[0m\u001b[0;34m\u001b[0m\u001b[0;34m\u001b[0m\u001b[0m\n\u001b[1;32m      3\u001b[0m \u001b[0mplt\u001b[0m\u001b[0;34m.\u001b[0m\u001b[0mshow\u001b[0m\u001b[0;34m(\u001b[0m\u001b[0;34m)\u001b[0m\u001b[0;34m\u001b[0m\u001b[0;34m\u001b[0m\u001b[0m\n",
            "\u001b[0;31mNameError\u001b[0m: name 'plt' is not defined"
          ]
        }
      ]
    },
    {
      "cell_type": "code",
      "source": [
        "evalResult('./test/Masked_images/',results[1])"
      ],
      "metadata": {
        "colab": {
          "base_uri": "https://localhost:8080/",
          "height": 1000
        },
        "id": "R-Bn69Gxvyjn",
        "outputId": "ecb48883-0b90-4aad-e93d-82e8ffa58fcb"
      },
      "execution_count": 82,
      "outputs": [
        {
          "output_type": "stream",
          "name": "stderr",
          "text": [
            "<ipython-input-81-88fefec00ea5>:21: RuntimeWarning: invalid value encountered in scalar divide\n",
            "  rec=tp/(tp+fn)\n",
            "<ipython-input-81-88fefec00ea5>:21: RuntimeWarning: invalid value encountered in scalar divide\n",
            "  rec=tp/(tp+fn)\n",
            "<ipython-input-81-88fefec00ea5>:21: RuntimeWarning: invalid value encountered in scalar divide\n",
            "  rec=tp/(tp+fn)\n",
            "<ipython-input-81-88fefec00ea5>:20: RuntimeWarning: invalid value encountered in scalar divide\n",
            "  prec=tp/(tp+fp)\n",
            "<ipython-input-81-88fefec00ea5>:21: RuntimeWarning: invalid value encountered in scalar divide\n",
            "  rec=tp/(tp+fn)\n",
            "<ipython-input-81-88fefec00ea5>:22: RuntimeWarning: invalid value encountered in scalar divide\n",
            "  IoU=tp/(tp+fp+fn)\n",
            "<ipython-input-81-88fefec00ea5>:31: RuntimeWarning: invalid value encountered in scalar divide\n",
            "  f1_score = (2 * tp) / ((2 * tp) + fp + fn)\n",
            "<ipython-input-81-88fefec00ea5>:20: RuntimeWarning: invalid value encountered in scalar divide\n",
            "  prec=tp/(tp+fp)\n",
            "<ipython-input-81-88fefec00ea5>:21: RuntimeWarning: invalid value encountered in scalar divide\n",
            "  rec=tp/(tp+fn)\n",
            "<ipython-input-81-88fefec00ea5>:22: RuntimeWarning: invalid value encountered in scalar divide\n",
            "  IoU=tp/(tp+fp+fn)\n",
            "<ipython-input-81-88fefec00ea5>:31: RuntimeWarning: invalid value encountered in scalar divide\n",
            "  f1_score = (2 * tp) / ((2 * tp) + fp + fn)\n",
            "<ipython-input-81-88fefec00ea5>:20: RuntimeWarning: invalid value encountered in scalar divide\n",
            "  prec=tp/(tp+fp)\n",
            "<ipython-input-81-88fefec00ea5>:21: RuntimeWarning: invalid value encountered in scalar divide\n",
            "  rec=tp/(tp+fn)\n",
            "<ipython-input-81-88fefec00ea5>:22: RuntimeWarning: invalid value encountered in scalar divide\n",
            "  IoU=tp/(tp+fp+fn)\n",
            "<ipython-input-81-88fefec00ea5>:31: RuntimeWarning: invalid value encountered in scalar divide\n",
            "  f1_score = (2 * tp) / ((2 * tp) + fp + fn)\n",
            "<ipython-input-81-88fefec00ea5>:20: RuntimeWarning: invalid value encountered in scalar divide\n",
            "  prec=tp/(tp+fp)\n",
            "<ipython-input-81-88fefec00ea5>:21: RuntimeWarning: invalid value encountered in scalar divide\n",
            "  rec=tp/(tp+fn)\n",
            "<ipython-input-81-88fefec00ea5>:22: RuntimeWarning: invalid value encountered in scalar divide\n",
            "  IoU=tp/(tp+fp+fn)\n",
            "<ipython-input-81-88fefec00ea5>:31: RuntimeWarning: invalid value encountered in scalar divide\n",
            "  f1_score = (2 * tp) / ((2 * tp) + fp + fn)\n",
            "<ipython-input-81-88fefec00ea5>:20: RuntimeWarning: invalid value encountered in scalar divide\n",
            "  prec=tp/(tp+fp)\n",
            "<ipython-input-81-88fefec00ea5>:21: RuntimeWarning: invalid value encountered in scalar divide\n",
            "  rec=tp/(tp+fn)\n",
            "<ipython-input-81-88fefec00ea5>:22: RuntimeWarning: invalid value encountered in scalar divide\n",
            "  IoU=tp/(tp+fp+fn)\n",
            "<ipython-input-81-88fefec00ea5>:31: RuntimeWarning: invalid value encountered in scalar divide\n",
            "  f1_score = (2 * tp) / ((2 * tp) + fp + fn)\n",
            "<ipython-input-81-88fefec00ea5>:20: RuntimeWarning: invalid value encountered in scalar divide\n",
            "  prec=tp/(tp+fp)\n",
            "<ipython-input-81-88fefec00ea5>:21: RuntimeWarning: invalid value encountered in scalar divide\n",
            "  rec=tp/(tp+fn)\n",
            "<ipython-input-81-88fefec00ea5>:22: RuntimeWarning: invalid value encountered in scalar divide\n",
            "  IoU=tp/(tp+fp+fn)\n",
            "<ipython-input-81-88fefec00ea5>:31: RuntimeWarning: invalid value encountered in scalar divide\n",
            "  f1_score = (2 * tp) / ((2 * tp) + fp + fn)\n",
            "<ipython-input-81-88fefec00ea5>:20: RuntimeWarning: invalid value encountered in scalar divide\n",
            "  prec=tp/(tp+fp)\n",
            "<ipython-input-81-88fefec00ea5>:21: RuntimeWarning: invalid value encountered in scalar divide\n",
            "  rec=tp/(tp+fn)\n",
            "<ipython-input-81-88fefec00ea5>:22: RuntimeWarning: invalid value encountered in scalar divide\n",
            "  IoU=tp/(tp+fp+fn)\n",
            "<ipython-input-81-88fefec00ea5>:31: RuntimeWarning: invalid value encountered in scalar divide\n",
            "  f1_score = (2 * tp) / ((2 * tp) + fp + fn)\n",
            "<ipython-input-81-88fefec00ea5>:20: RuntimeWarning: invalid value encountered in scalar divide\n",
            "  prec=tp/(tp+fp)\n",
            "<ipython-input-81-88fefec00ea5>:21: RuntimeWarning: invalid value encountered in scalar divide\n",
            "  rec=tp/(tp+fn)\n",
            "<ipython-input-81-88fefec00ea5>:22: RuntimeWarning: invalid value encountered in scalar divide\n",
            "  IoU=tp/(tp+fp+fn)\n",
            "<ipython-input-81-88fefec00ea5>:31: RuntimeWarning: invalid value encountered in scalar divide\n",
            "  f1_score = (2 * tp) / ((2 * tp) + fp + fn)\n",
            "<ipython-input-81-88fefec00ea5>:20: RuntimeWarning: invalid value encountered in scalar divide\n",
            "  prec=tp/(tp+fp)\n",
            "<ipython-input-81-88fefec00ea5>:21: RuntimeWarning: invalid value encountered in scalar divide\n",
            "  rec=tp/(tp+fn)\n",
            "<ipython-input-81-88fefec00ea5>:22: RuntimeWarning: invalid value encountered in scalar divide\n",
            "  IoU=tp/(tp+fp+fn)\n",
            "<ipython-input-81-88fefec00ea5>:31: RuntimeWarning: invalid value encountered in scalar divide\n",
            "  f1_score = (2 * tp) / ((2 * tp) + fp + fn)\n",
            "<ipython-input-81-88fefec00ea5>:20: RuntimeWarning: invalid value encountered in scalar divide\n",
            "  prec=tp/(tp+fp)\n",
            "<ipython-input-81-88fefec00ea5>:21: RuntimeWarning: invalid value encountered in scalar divide\n",
            "  rec=tp/(tp+fn)\n",
            "<ipython-input-81-88fefec00ea5>:22: RuntimeWarning: invalid value encountered in scalar divide\n",
            "  IoU=tp/(tp+fp+fn)\n",
            "<ipython-input-81-88fefec00ea5>:31: RuntimeWarning: invalid value encountered in scalar divide\n",
            "  f1_score = (2 * tp) / ((2 * tp) + fp + fn)\n",
            "<ipython-input-81-88fefec00ea5>:20: RuntimeWarning: invalid value encountered in scalar divide\n",
            "  prec=tp/(tp+fp)\n",
            "<ipython-input-81-88fefec00ea5>:21: RuntimeWarning: invalid value encountered in scalar divide\n",
            "  rec=tp/(tp+fn)\n",
            "<ipython-input-81-88fefec00ea5>:22: RuntimeWarning: invalid value encountered in scalar divide\n",
            "  IoU=tp/(tp+fp+fn)\n",
            "<ipython-input-81-88fefec00ea5>:31: RuntimeWarning: invalid value encountered in scalar divide\n",
            "  f1_score = (2 * tp) / ((2 * tp) + fp + fn)\n",
            "<ipython-input-81-88fefec00ea5>:20: RuntimeWarning: invalid value encountered in scalar divide\n",
            "  prec=tp/(tp+fp)\n",
            "<ipython-input-81-88fefec00ea5>:21: RuntimeWarning: invalid value encountered in scalar divide\n",
            "  rec=tp/(tp+fn)\n",
            "<ipython-input-81-88fefec00ea5>:22: RuntimeWarning: invalid value encountered in scalar divide\n",
            "  IoU=tp/(tp+fp+fn)\n",
            "<ipython-input-81-88fefec00ea5>:31: RuntimeWarning: invalid value encountered in scalar divide\n",
            "  f1_score = (2 * tp) / ((2 * tp) + fp + fn)\n",
            "<ipython-input-81-88fefec00ea5>:20: RuntimeWarning: invalid value encountered in scalar divide\n",
            "  prec=tp/(tp+fp)\n",
            "<ipython-input-81-88fefec00ea5>:21: RuntimeWarning: invalid value encountered in scalar divide\n",
            "  rec=tp/(tp+fn)\n",
            "<ipython-input-81-88fefec00ea5>:22: RuntimeWarning: invalid value encountered in scalar divide\n",
            "  IoU=tp/(tp+fp+fn)\n",
            "<ipython-input-81-88fefec00ea5>:31: RuntimeWarning: invalid value encountered in scalar divide\n",
            "  f1_score = (2 * tp) / ((2 * tp) + fp + fn)\n",
            "<ipython-input-81-88fefec00ea5>:20: RuntimeWarning: invalid value encountered in scalar divide\n",
            "  prec=tp/(tp+fp)\n",
            "<ipython-input-81-88fefec00ea5>:21: RuntimeWarning: invalid value encountered in scalar divide\n",
            "  rec=tp/(tp+fn)\n",
            "<ipython-input-81-88fefec00ea5>:22: RuntimeWarning: invalid value encountered in scalar divide\n",
            "  IoU=tp/(tp+fp+fn)\n",
            "<ipython-input-81-88fefec00ea5>:31: RuntimeWarning: invalid value encountered in scalar divide\n",
            "  f1_score = (2 * tp) / ((2 * tp) + fp + fn)\n",
            "<ipython-input-81-88fefec00ea5>:20: RuntimeWarning: invalid value encountered in scalar divide\n",
            "  prec=tp/(tp+fp)\n",
            "<ipython-input-81-88fefec00ea5>:21: RuntimeWarning: invalid value encountered in scalar divide\n",
            "  rec=tp/(tp+fn)\n",
            "<ipython-input-81-88fefec00ea5>:22: RuntimeWarning: invalid value encountered in scalar divide\n",
            "  IoU=tp/(tp+fp+fn)\n",
            "<ipython-input-81-88fefec00ea5>:31: RuntimeWarning: invalid value encountered in scalar divide\n",
            "  f1_score = (2 * tp) / ((2 * tp) + fp + fn)\n",
            "<ipython-input-81-88fefec00ea5>:20: RuntimeWarning: invalid value encountered in scalar divide\n",
            "  prec=tp/(tp+fp)\n",
            "<ipython-input-81-88fefec00ea5>:21: RuntimeWarning: invalid value encountered in scalar divide\n",
            "  rec=tp/(tp+fn)\n",
            "<ipython-input-81-88fefec00ea5>:22: RuntimeWarning: invalid value encountered in scalar divide\n",
            "  IoU=tp/(tp+fp+fn)\n",
            "<ipython-input-81-88fefec00ea5>:31: RuntimeWarning: invalid value encountered in scalar divide\n",
            "  f1_score = (2 * tp) / ((2 * tp) + fp + fn)\n",
            "<ipython-input-81-88fefec00ea5>:20: RuntimeWarning: invalid value encountered in scalar divide\n",
            "  prec=tp/(tp+fp)\n",
            "<ipython-input-81-88fefec00ea5>:21: RuntimeWarning: invalid value encountered in scalar divide\n",
            "  rec=tp/(tp+fn)\n",
            "<ipython-input-81-88fefec00ea5>:22: RuntimeWarning: invalid value encountered in scalar divide\n",
            "  IoU=tp/(tp+fp+fn)\n",
            "<ipython-input-81-88fefec00ea5>:31: RuntimeWarning: invalid value encountered in scalar divide\n",
            "  f1_score = (2 * tp) / ((2 * tp) + fp + fn)\n",
            "<ipython-input-81-88fefec00ea5>:20: RuntimeWarning: invalid value encountered in scalar divide\n",
            "  prec=tp/(tp+fp)\n",
            "<ipython-input-81-88fefec00ea5>:21: RuntimeWarning: invalid value encountered in scalar divide\n",
            "  rec=tp/(tp+fn)\n",
            "<ipython-input-81-88fefec00ea5>:22: RuntimeWarning: invalid value encountered in scalar divide\n",
            "  IoU=tp/(tp+fp+fn)\n",
            "<ipython-input-81-88fefec00ea5>:31: RuntimeWarning: invalid value encountered in scalar divide\n",
            "  f1_score = (2 * tp) / ((2 * tp) + fp + fn)\n",
            "<ipython-input-81-88fefec00ea5>:20: RuntimeWarning: invalid value encountered in scalar divide\n",
            "  prec=tp/(tp+fp)\n",
            "<ipython-input-81-88fefec00ea5>:21: RuntimeWarning: invalid value encountered in scalar divide\n",
            "  rec=tp/(tp+fn)\n",
            "<ipython-input-81-88fefec00ea5>:22: RuntimeWarning: invalid value encountered in scalar divide\n",
            "  IoU=tp/(tp+fp+fn)\n",
            "<ipython-input-81-88fefec00ea5>:31: RuntimeWarning: invalid value encountered in scalar divide\n",
            "  f1_score = (2 * tp) / ((2 * tp) + fp + fn)\n",
            "<ipython-input-81-88fefec00ea5>:20: RuntimeWarning: invalid value encountered in scalar divide\n",
            "  prec=tp/(tp+fp)\n",
            "<ipython-input-81-88fefec00ea5>:21: RuntimeWarning: invalid value encountered in scalar divide\n",
            "  rec=tp/(tp+fn)\n",
            "<ipython-input-81-88fefec00ea5>:22: RuntimeWarning: invalid value encountered in scalar divide\n",
            "  IoU=tp/(tp+fp+fn)\n",
            "<ipython-input-81-88fefec00ea5>:31: RuntimeWarning: invalid value encountered in scalar divide\n",
            "  f1_score = (2 * tp) / ((2 * tp) + fp + fn)\n",
            "<ipython-input-81-88fefec00ea5>:20: RuntimeWarning: invalid value encountered in scalar divide\n",
            "  prec=tp/(tp+fp)\n",
            "<ipython-input-81-88fefec00ea5>:21: RuntimeWarning: invalid value encountered in scalar divide\n",
            "  rec=tp/(tp+fn)\n",
            "<ipython-input-81-88fefec00ea5>:22: RuntimeWarning: invalid value encountered in scalar divide\n",
            "  IoU=tp/(tp+fp+fn)\n",
            "<ipython-input-81-88fefec00ea5>:31: RuntimeWarning: invalid value encountered in scalar divide\n",
            "  f1_score = (2 * tp) / ((2 * tp) + fp + fn)\n",
            "<ipython-input-81-88fefec00ea5>:20: RuntimeWarning: invalid value encountered in scalar divide\n",
            "  prec=tp/(tp+fp)\n",
            "<ipython-input-81-88fefec00ea5>:21: RuntimeWarning: invalid value encountered in scalar divide\n",
            "  rec=tp/(tp+fn)\n",
            "<ipython-input-81-88fefec00ea5>:22: RuntimeWarning: invalid value encountered in scalar divide\n",
            "  IoU=tp/(tp+fp+fn)\n",
            "<ipython-input-81-88fefec00ea5>:31: RuntimeWarning: invalid value encountered in scalar divide\n",
            "  f1_score = (2 * tp) / ((2 * tp) + fp + fn)\n",
            "<ipython-input-81-88fefec00ea5>:20: RuntimeWarning: invalid value encountered in scalar divide\n",
            "  prec=tp/(tp+fp)\n",
            "<ipython-input-81-88fefec00ea5>:21: RuntimeWarning: invalid value encountered in scalar divide\n",
            "  rec=tp/(tp+fn)\n",
            "<ipython-input-81-88fefec00ea5>:22: RuntimeWarning: invalid value encountered in scalar divide\n",
            "  IoU=tp/(tp+fp+fn)\n",
            "<ipython-input-81-88fefec00ea5>:31: RuntimeWarning: invalid value encountered in scalar divide\n",
            "  f1_score = (2 * tp) / ((2 * tp) + fp + fn)\n",
            "<ipython-input-81-88fefec00ea5>:20: RuntimeWarning: invalid value encountered in scalar divide\n",
            "  prec=tp/(tp+fp)\n",
            "<ipython-input-81-88fefec00ea5>:21: RuntimeWarning: invalid value encountered in scalar divide\n",
            "  rec=tp/(tp+fn)\n",
            "<ipython-input-81-88fefec00ea5>:22: RuntimeWarning: invalid value encountered in scalar divide\n",
            "  IoU=tp/(tp+fp+fn)\n",
            "<ipython-input-81-88fefec00ea5>:31: RuntimeWarning: invalid value encountered in scalar divide\n",
            "  f1_score = (2 * tp) / ((2 * tp) + fp + fn)\n",
            "<ipython-input-81-88fefec00ea5>:20: RuntimeWarning: invalid value encountered in scalar divide\n",
            "  prec=tp/(tp+fp)\n",
            "<ipython-input-81-88fefec00ea5>:21: RuntimeWarning: invalid value encountered in scalar divide\n",
            "  rec=tp/(tp+fn)\n",
            "<ipython-input-81-88fefec00ea5>:22: RuntimeWarning: invalid value encountered in scalar divide\n",
            "  IoU=tp/(tp+fp+fn)\n",
            "<ipython-input-81-88fefec00ea5>:31: RuntimeWarning: invalid value encountered in scalar divide\n",
            "  f1_score = (2 * tp) / ((2 * tp) + fp + fn)\n",
            "<ipython-input-81-88fefec00ea5>:20: RuntimeWarning: invalid value encountered in scalar divide\n",
            "  prec=tp/(tp+fp)\n",
            "<ipython-input-81-88fefec00ea5>:21: RuntimeWarning: invalid value encountered in scalar divide\n",
            "  rec=tp/(tp+fn)\n",
            "<ipython-input-81-88fefec00ea5>:22: RuntimeWarning: invalid value encountered in scalar divide\n",
            "  IoU=tp/(tp+fp+fn)\n",
            "<ipython-input-81-88fefec00ea5>:31: RuntimeWarning: invalid value encountered in scalar divide\n",
            "  f1_score = (2 * tp) / ((2 * tp) + fp + fn)\n",
            "<ipython-input-81-88fefec00ea5>:20: RuntimeWarning: invalid value encountered in scalar divide\n",
            "  prec=tp/(tp+fp)\n",
            "<ipython-input-81-88fefec00ea5>:21: RuntimeWarning: invalid value encountered in scalar divide\n",
            "  rec=tp/(tp+fn)\n",
            "<ipython-input-81-88fefec00ea5>:22: RuntimeWarning: invalid value encountered in scalar divide\n",
            "  IoU=tp/(tp+fp+fn)\n",
            "<ipython-input-81-88fefec00ea5>:31: RuntimeWarning: invalid value encountered in scalar divide\n",
            "  f1_score = (2 * tp) / ((2 * tp) + fp + fn)\n",
            "<ipython-input-81-88fefec00ea5>:20: RuntimeWarning: invalid value encountered in scalar divide\n",
            "  prec=tp/(tp+fp)\n",
            "<ipython-input-81-88fefec00ea5>:21: RuntimeWarning: invalid value encountered in scalar divide\n",
            "  rec=tp/(tp+fn)\n",
            "<ipython-input-81-88fefec00ea5>:22: RuntimeWarning: invalid value encountered in scalar divide\n",
            "  IoU=tp/(tp+fp+fn)\n",
            "<ipython-input-81-88fefec00ea5>:31: RuntimeWarning: invalid value encountered in scalar divide\n",
            "  f1_score = (2 * tp) / ((2 * tp) + fp + fn)\n",
            "<ipython-input-81-88fefec00ea5>:20: RuntimeWarning: invalid value encountered in scalar divide\n",
            "  prec=tp/(tp+fp)\n",
            "<ipython-input-81-88fefec00ea5>:21: RuntimeWarning: invalid value encountered in scalar divide\n",
            "  rec=tp/(tp+fn)\n",
            "<ipython-input-81-88fefec00ea5>:22: RuntimeWarning: invalid value encountered in scalar divide\n",
            "  IoU=tp/(tp+fp+fn)\n",
            "<ipython-input-81-88fefec00ea5>:31: RuntimeWarning: invalid value encountered in scalar divide\n",
            "  f1_score = (2 * tp) / ((2 * tp) + fp + fn)\n",
            "<ipython-input-81-88fefec00ea5>:20: RuntimeWarning: invalid value encountered in scalar divide\n",
            "  prec=tp/(tp+fp)\n",
            "<ipython-input-81-88fefec00ea5>:21: RuntimeWarning: invalid value encountered in scalar divide\n",
            "  rec=tp/(tp+fn)\n",
            "<ipython-input-81-88fefec00ea5>:22: RuntimeWarning: invalid value encountered in scalar divide\n",
            "  IoU=tp/(tp+fp+fn)\n",
            "<ipython-input-81-88fefec00ea5>:31: RuntimeWarning: invalid value encountered in scalar divide\n",
            "  f1_score = (2 * tp) / ((2 * tp) + fp + fn)\n",
            "<ipython-input-81-88fefec00ea5>:20: RuntimeWarning: invalid value encountered in scalar divide\n",
            "  prec=tp/(tp+fp)\n",
            "<ipython-input-81-88fefec00ea5>:21: RuntimeWarning: invalid value encountered in scalar divide\n",
            "  rec=tp/(tp+fn)\n",
            "<ipython-input-81-88fefec00ea5>:22: RuntimeWarning: invalid value encountered in scalar divide\n",
            "  IoU=tp/(tp+fp+fn)\n",
            "<ipython-input-81-88fefec00ea5>:31: RuntimeWarning: invalid value encountered in scalar divide\n",
            "  f1_score = (2 * tp) / ((2 * tp) + fp + fn)\n",
            "<ipython-input-81-88fefec00ea5>:20: RuntimeWarning: invalid value encountered in scalar divide\n",
            "  prec=tp/(tp+fp)\n",
            "<ipython-input-81-88fefec00ea5>:21: RuntimeWarning: invalid value encountered in scalar divide\n",
            "  rec=tp/(tp+fn)\n",
            "<ipython-input-81-88fefec00ea5>:22: RuntimeWarning: invalid value encountered in scalar divide\n",
            "  IoU=tp/(tp+fp+fn)\n",
            "<ipython-input-81-88fefec00ea5>:31: RuntimeWarning: invalid value encountered in scalar divide\n",
            "  f1_score = (2 * tp) / ((2 * tp) + fp + fn)\n",
            "<ipython-input-81-88fefec00ea5>:20: RuntimeWarning: invalid value encountered in scalar divide\n",
            "  prec=tp/(tp+fp)\n",
            "<ipython-input-81-88fefec00ea5>:21: RuntimeWarning: invalid value encountered in scalar divide\n",
            "  rec=tp/(tp+fn)\n",
            "<ipython-input-81-88fefec00ea5>:22: RuntimeWarning: invalid value encountered in scalar divide\n",
            "  IoU=tp/(tp+fp+fn)\n",
            "<ipython-input-81-88fefec00ea5>:31: RuntimeWarning: invalid value encountered in scalar divide\n",
            "  f1_score = (2 * tp) / ((2 * tp) + fp + fn)\n",
            "<ipython-input-81-88fefec00ea5>:20: RuntimeWarning: invalid value encountered in scalar divide\n",
            "  prec=tp/(tp+fp)\n",
            "<ipython-input-81-88fefec00ea5>:21: RuntimeWarning: invalid value encountered in scalar divide\n",
            "  rec=tp/(tp+fn)\n",
            "<ipython-input-81-88fefec00ea5>:22: RuntimeWarning: invalid value encountered in scalar divide\n",
            "  IoU=tp/(tp+fp+fn)\n",
            "<ipython-input-81-88fefec00ea5>:31: RuntimeWarning: invalid value encountered in scalar divide\n",
            "  f1_score = (2 * tp) / ((2 * tp) + fp + fn)\n",
            "<ipython-input-81-88fefec00ea5>:20: RuntimeWarning: invalid value encountered in scalar divide\n",
            "  prec=tp/(tp+fp)\n",
            "<ipython-input-81-88fefec00ea5>:21: RuntimeWarning: invalid value encountered in scalar divide\n",
            "  rec=tp/(tp+fn)\n",
            "<ipython-input-81-88fefec00ea5>:22: RuntimeWarning: invalid value encountered in scalar divide\n",
            "  IoU=tp/(tp+fp+fn)\n",
            "<ipython-input-81-88fefec00ea5>:31: RuntimeWarning: invalid value encountered in scalar divide\n",
            "  f1_score = (2 * tp) / ((2 * tp) + fp + fn)\n",
            "<ipython-input-81-88fefec00ea5>:20: RuntimeWarning: invalid value encountered in scalar divide\n",
            "  prec=tp/(tp+fp)\n",
            "<ipython-input-81-88fefec00ea5>:21: RuntimeWarning: invalid value encountered in scalar divide\n",
            "  rec=tp/(tp+fn)\n",
            "<ipython-input-81-88fefec00ea5>:22: RuntimeWarning: invalid value encountered in scalar divide\n",
            "  IoU=tp/(tp+fp+fn)\n",
            "<ipython-input-81-88fefec00ea5>:31: RuntimeWarning: invalid value encountered in scalar divide\n",
            "  f1_score = (2 * tp) / ((2 * tp) + fp + fn)\n",
            "<ipython-input-81-88fefec00ea5>:20: RuntimeWarning: invalid value encountered in scalar divide\n",
            "  prec=tp/(tp+fp)\n",
            "<ipython-input-81-88fefec00ea5>:21: RuntimeWarning: invalid value encountered in scalar divide\n",
            "  rec=tp/(tp+fn)\n",
            "<ipython-input-81-88fefec00ea5>:22: RuntimeWarning: invalid value encountered in scalar divide\n",
            "  IoU=tp/(tp+fp+fn)\n",
            "<ipython-input-81-88fefec00ea5>:31: RuntimeWarning: invalid value encountered in scalar divide\n",
            "  f1_score = (2 * tp) / ((2 * tp) + fp + fn)\n",
            "<ipython-input-81-88fefec00ea5>:21: RuntimeWarning: invalid value encountered in scalar divide\n",
            "  rec=tp/(tp+fn)\n",
            "<ipython-input-81-88fefec00ea5>:21: RuntimeWarning: invalid value encountered in scalar divide\n",
            "  rec=tp/(tp+fn)\n",
            "<ipython-input-81-88fefec00ea5>:21: RuntimeWarning: invalid value encountered in scalar divide\n",
            "  rec=tp/(tp+fn)\n",
            "<ipython-input-81-88fefec00ea5>:21: RuntimeWarning: invalid value encountered in scalar divide\n",
            "  rec=tp/(tp+fn)\n",
            "<ipython-input-81-88fefec00ea5>:21: RuntimeWarning: invalid value encountered in scalar divide\n",
            "  rec=tp/(tp+fn)\n",
            "<ipython-input-81-88fefec00ea5>:21: RuntimeWarning: invalid value encountered in scalar divide\n",
            "  rec=tp/(tp+fn)\n",
            "<ipython-input-81-88fefec00ea5>:21: RuntimeWarning: invalid value encountered in scalar divide\n",
            "  rec=tp/(tp+fn)\n",
            "<ipython-input-81-88fefec00ea5>:21: RuntimeWarning: invalid value encountered in scalar divide\n",
            "  rec=tp/(tp+fn)\n",
            "<ipython-input-81-88fefec00ea5>:21: RuntimeWarning: invalid value encountered in scalar divide\n",
            "  rec=tp/(tp+fn)\n",
            "<ipython-input-81-88fefec00ea5>:21: RuntimeWarning: invalid value encountered in scalar divide\n",
            "  rec=tp/(tp+fn)\n",
            "<ipython-input-81-88fefec00ea5>:21: RuntimeWarning: invalid value encountered in scalar divide\n",
            "  rec=tp/(tp+fn)\n",
            "<ipython-input-81-88fefec00ea5>:21: RuntimeWarning: invalid value encountered in scalar divide\n",
            "  rec=tp/(tp+fn)\n",
            "<ipython-input-81-88fefec00ea5>:21: RuntimeWarning: invalid value encountered in scalar divide\n",
            "  rec=tp/(tp+fn)\n",
            "<ipython-input-81-88fefec00ea5>:21: RuntimeWarning: invalid value encountered in scalar divide\n",
            "  rec=tp/(tp+fn)\n",
            "<ipython-input-81-88fefec00ea5>:21: RuntimeWarning: invalid value encountered in scalar divide\n",
            "  rec=tp/(tp+fn)\n",
            "<ipython-input-81-88fefec00ea5>:21: RuntimeWarning: invalid value encountered in scalar divide\n",
            "  rec=tp/(tp+fn)\n",
            "<ipython-input-81-88fefec00ea5>:21: RuntimeWarning: invalid value encountered in scalar divide\n",
            "  rec=tp/(tp+fn)\n",
            "<ipython-input-81-88fefec00ea5>:21: RuntimeWarning: invalid value encountered in scalar divide\n",
            "  rec=tp/(tp+fn)\n",
            "<ipython-input-81-88fefec00ea5>:21: RuntimeWarning: invalid value encountered in scalar divide\n",
            "  rec=tp/(tp+fn)\n",
            "<ipython-input-81-88fefec00ea5>:21: RuntimeWarning: invalid value encountered in scalar divide\n",
            "  rec=tp/(tp+fn)\n",
            "<ipython-input-81-88fefec00ea5>:21: RuntimeWarning: invalid value encountered in scalar divide\n",
            "  rec=tp/(tp+fn)\n",
            "<ipython-input-81-88fefec00ea5>:21: RuntimeWarning: invalid value encountered in scalar divide\n",
            "  rec=tp/(tp+fn)\n",
            "<ipython-input-81-88fefec00ea5>:21: RuntimeWarning: invalid value encountered in scalar divide\n",
            "  rec=tp/(tp+fn)\n",
            "<ipython-input-81-88fefec00ea5>:21: RuntimeWarning: invalid value encountered in scalar divide\n",
            "  rec=tp/(tp+fn)\n",
            "<ipython-input-81-88fefec00ea5>:21: RuntimeWarning: invalid value encountered in scalar divide\n",
            "  rec=tp/(tp+fn)\n",
            "<ipython-input-81-88fefec00ea5>:21: RuntimeWarning: invalid value encountered in scalar divide\n",
            "  rec=tp/(tp+fn)\n",
            "<ipython-input-81-88fefec00ea5>:21: RuntimeWarning: invalid value encountered in scalar divide\n",
            "  rec=tp/(tp+fn)\n",
            "<ipython-input-81-88fefec00ea5>:21: RuntimeWarning: invalid value encountered in scalar divide\n",
            "  rec=tp/(tp+fn)\n",
            "<ipython-input-81-88fefec00ea5>:21: RuntimeWarning: invalid value encountered in scalar divide\n",
            "  rec=tp/(tp+fn)\n",
            "<ipython-input-81-88fefec00ea5>:21: RuntimeWarning: invalid value encountered in scalar divide\n",
            "  rec=tp/(tp+fn)\n",
            "<ipython-input-81-88fefec00ea5>:21: RuntimeWarning: invalid value encountered in scalar divide\n",
            "  rec=tp/(tp+fn)\n",
            "<ipython-input-81-88fefec00ea5>:21: RuntimeWarning: invalid value encountered in scalar divide\n",
            "  rec=tp/(tp+fn)\n",
            "<ipython-input-81-88fefec00ea5>:21: RuntimeWarning: invalid value encountered in scalar divide\n",
            "  rec=tp/(tp+fn)\n",
            "<ipython-input-81-88fefec00ea5>:21: RuntimeWarning: invalid value encountered in scalar divide\n",
            "  rec=tp/(tp+fn)\n",
            "<ipython-input-81-88fefec00ea5>:21: RuntimeWarning: invalid value encountered in scalar divide\n",
            "  rec=tp/(tp+fn)\n",
            "<ipython-input-81-88fefec00ea5>:21: RuntimeWarning: invalid value encountered in scalar divide\n",
            "  rec=tp/(tp+fn)\n",
            "<ipython-input-81-88fefec00ea5>:21: RuntimeWarning: invalid value encountered in scalar divide\n",
            "  rec=tp/(tp+fn)\n",
            "<ipython-input-81-88fefec00ea5>:21: RuntimeWarning: invalid value encountered in scalar divide\n",
            "  rec=tp/(tp+fn)\n",
            "<ipython-input-81-88fefec00ea5>:21: RuntimeWarning: invalid value encountered in scalar divide\n",
            "  rec=tp/(tp+fn)\n",
            "<ipython-input-81-88fefec00ea5>:21: RuntimeWarning: invalid value encountered in scalar divide\n",
            "  rec=tp/(tp+fn)\n"
          ]
        },
        {
          "output_type": "error",
          "ename": "KeyboardInterrupt",
          "evalue": "",
          "traceback": [
            "\u001b[0;31m---------------------------------------------------------------------------\u001b[0m",
            "\u001b[0;31mKeyboardInterrupt\u001b[0m                         Traceback (most recent call last)",
            "\u001b[0;32m<ipython-input-82-fc0b8093e529>\u001b[0m in \u001b[0;36m<cell line: 1>\u001b[0;34m()\u001b[0m\n\u001b[0;32m----> 1\u001b[0;31m \u001b[0mevalResult\u001b[0m\u001b[0;34m(\u001b[0m\u001b[0;34m'./test/Masked_images/'\u001b[0m\u001b[0;34m,\u001b[0m\u001b[0mresults\u001b[0m\u001b[0;34m[\u001b[0m\u001b[0;36m1\u001b[0m\u001b[0;34m]\u001b[0m\u001b[0;34m)\u001b[0m\u001b[0;34m\u001b[0m\u001b[0;34m\u001b[0m\u001b[0m\n\u001b[0m",
            "\u001b[0;32m<ipython-input-81-88fefec00ea5>\u001b[0m in \u001b[0;36mevalResult\u001b[0;34m(gth_path, npyfile, target_size, flag_multi_class, num_class, threshold)\u001b[0m\n\u001b[1;32m     98\u001b[0m         \u001b[0;31m# Ensure ground truth image matches the expected input dimensions\u001b[0m\u001b[0;34m\u001b[0m\u001b[0;34m\u001b[0m\u001b[0m\n\u001b[1;32m     99\u001b[0m         \u001b[0mgth\u001b[0m \u001b[0;34m=\u001b[0m \u001b[0mio\u001b[0m\u001b[0;34m.\u001b[0m\u001b[0mimread\u001b[0m\u001b[0;34m(\u001b[0m\u001b[0mos\u001b[0m\u001b[0;34m.\u001b[0m\u001b[0mpath\u001b[0m\u001b[0;34m.\u001b[0m\u001b[0mjoin\u001b[0m\u001b[0;34m(\u001b[0m\u001b[0mgth_path\u001b[0m\u001b[0;34m,\u001b[0m \u001b[0mfiles\u001b[0m\u001b[0;34m[\u001b[0m\u001b[0mi\u001b[0m\u001b[0;34m]\u001b[0m\u001b[0;34m)\u001b[0m\u001b[0;34m,\u001b[0m \u001b[0mas_gray\u001b[0m\u001b[0;34m=\u001b[0m\u001b[0;32mTrue\u001b[0m\u001b[0;34m)\u001b[0m\u001b[0;34m\u001b[0m\u001b[0;34m\u001b[0m\u001b[0m\n\u001b[0;32m--> 100\u001b[0;31m         \u001b[0mgth\u001b[0m \u001b[0;34m=\u001b[0m \u001b[0mtrans\u001b[0m\u001b[0;34m.\u001b[0m\u001b[0mresize\u001b[0m\u001b[0;34m(\u001b[0m\u001b[0mgth\u001b[0m\u001b[0;34m,\u001b[0m \u001b[0;34m(\u001b[0m\u001b[0mside_length\u001b[0m\u001b[0;34m,\u001b[0m \u001b[0mside_length\u001b[0m\u001b[0;34m)\u001b[0m\u001b[0;34m)\u001b[0m  \u001b[0;31m# Resize ground truth to match predicted image dimensions\u001b[0m\u001b[0;34m\u001b[0m\u001b[0;34m\u001b[0m\u001b[0m\n\u001b[0m\u001b[1;32m    101\u001b[0m \u001b[0;34m\u001b[0m\u001b[0m\n\u001b[1;32m    102\u001b[0m         \u001b[0;31m# Binarize predictions and ground truth based on threshold\u001b[0m\u001b[0;34m\u001b[0m\u001b[0;34m\u001b[0m\u001b[0m\n",
            "\u001b[0;32m/usr/local/lib/python3.10/dist-packages/skimage/transform/_warps.py\u001b[0m in \u001b[0;36mresize\u001b[0;34m(image, output_shape, order, mode, cval, clip, preserve_range, anti_aliasing, anti_aliasing_sigma)\u001b[0m\n\u001b[1;32m    179\u001b[0m                 warn(\"Anti-aliasing standard deviation greater than zero but \"\n\u001b[1;32m    180\u001b[0m                      \"not down-sampling along all axes\")\n\u001b[0;32m--> 181\u001b[0;31m         image = ndi.gaussian_filter(image, anti_aliasing_sigma,\n\u001b[0m\u001b[1;32m    182\u001b[0m                                     cval=cval, mode=ndi_mode)\n\u001b[1;32m    183\u001b[0m \u001b[0;34m\u001b[0m\u001b[0m\n",
            "\u001b[0;32m/usr/local/lib/python3.10/dist-packages/scipy/ndimage/_filters.py\u001b[0m in \u001b[0;36mgaussian_filter\u001b[0;34m(input, sigma, order, output, mode, cval, truncate, radius, axes)\u001b[0m\n\u001b[1;32m    377\u001b[0m     \u001b[0;32mif\u001b[0m \u001b[0mlen\u001b[0m\u001b[0;34m(\u001b[0m\u001b[0maxes\u001b[0m\u001b[0;34m)\u001b[0m \u001b[0;34m>\u001b[0m \u001b[0;36m0\u001b[0m\u001b[0;34m:\u001b[0m\u001b[0;34m\u001b[0m\u001b[0;34m\u001b[0m\u001b[0m\n\u001b[1;32m    378\u001b[0m         \u001b[0;32mfor\u001b[0m \u001b[0maxis\u001b[0m\u001b[0;34m,\u001b[0m \u001b[0msigma\u001b[0m\u001b[0;34m,\u001b[0m \u001b[0morder\u001b[0m\u001b[0;34m,\u001b[0m \u001b[0mmode\u001b[0m\u001b[0;34m,\u001b[0m \u001b[0mradius\u001b[0m \u001b[0;32min\u001b[0m \u001b[0maxes\u001b[0m\u001b[0;34m:\u001b[0m\u001b[0;34m\u001b[0m\u001b[0;34m\u001b[0m\u001b[0m\n\u001b[0;32m--> 379\u001b[0;31m             gaussian_filter1d(input, sigma, axis, order, output,\n\u001b[0m\u001b[1;32m    380\u001b[0m                               mode, cval, truncate, radius=radius)\n\u001b[1;32m    381\u001b[0m             \u001b[0minput\u001b[0m \u001b[0;34m=\u001b[0m \u001b[0moutput\u001b[0m\u001b[0;34m\u001b[0m\u001b[0;34m\u001b[0m\u001b[0m\n",
            "\u001b[0;32m/usr/local/lib/python3.10/dist-packages/scipy/ndimage/_filters.py\u001b[0m in \u001b[0;36mgaussian_filter1d\u001b[0;34m(input, sigma, axis, order, output, mode, cval, truncate, radius)\u001b[0m\n\u001b[1;32m    275\u001b[0m     \u001b[0;31m# Since we are calling correlate, not convolve, revert the kernel\u001b[0m\u001b[0;34m\u001b[0m\u001b[0;34m\u001b[0m\u001b[0m\n\u001b[1;32m    276\u001b[0m     \u001b[0mweights\u001b[0m \u001b[0;34m=\u001b[0m \u001b[0m_gaussian_kernel1d\u001b[0m\u001b[0;34m(\u001b[0m\u001b[0msigma\u001b[0m\u001b[0;34m,\u001b[0m \u001b[0morder\u001b[0m\u001b[0;34m,\u001b[0m \u001b[0mlw\u001b[0m\u001b[0;34m)\u001b[0m\u001b[0;34m[\u001b[0m\u001b[0;34m:\u001b[0m\u001b[0;34m:\u001b[0m\u001b[0;34m-\u001b[0m\u001b[0;36m1\u001b[0m\u001b[0;34m]\u001b[0m\u001b[0;34m\u001b[0m\u001b[0;34m\u001b[0m\u001b[0m\n\u001b[0;32m--> 277\u001b[0;31m     \u001b[0;32mreturn\u001b[0m \u001b[0mcorrelate1d\u001b[0m\u001b[0;34m(\u001b[0m\u001b[0minput\u001b[0m\u001b[0;34m,\u001b[0m \u001b[0mweights\u001b[0m\u001b[0;34m,\u001b[0m \u001b[0maxis\u001b[0m\u001b[0;34m,\u001b[0m \u001b[0moutput\u001b[0m\u001b[0;34m,\u001b[0m \u001b[0mmode\u001b[0m\u001b[0;34m,\u001b[0m \u001b[0mcval\u001b[0m\u001b[0;34m,\u001b[0m \u001b[0;36m0\u001b[0m\u001b[0;34m)\u001b[0m\u001b[0;34m\u001b[0m\u001b[0;34m\u001b[0m\u001b[0m\n\u001b[0m\u001b[1;32m    278\u001b[0m \u001b[0;34m\u001b[0m\u001b[0m\n\u001b[1;32m    279\u001b[0m \u001b[0;34m\u001b[0m\u001b[0m\n",
            "\u001b[0;32m/usr/local/lib/python3.10/dist-packages/scipy/ndimage/_filters.py\u001b[0m in \u001b[0;36mcorrelate1d\u001b[0;34m(input, weights, axis, output, mode, cval, origin)\u001b[0m\n\u001b[1;32m    132\u001b[0m                          '(len(weights)-1) // 2')\n\u001b[1;32m    133\u001b[0m     \u001b[0mmode\u001b[0m \u001b[0;34m=\u001b[0m \u001b[0m_ni_support\u001b[0m\u001b[0;34m.\u001b[0m\u001b[0m_extend_mode_to_code\u001b[0m\u001b[0;34m(\u001b[0m\u001b[0mmode\u001b[0m\u001b[0;34m)\u001b[0m\u001b[0;34m\u001b[0m\u001b[0;34m\u001b[0m\u001b[0m\n\u001b[0;32m--> 134\u001b[0;31m     _nd_image.correlate1d(input, weights, axis, output, mode, cval,\n\u001b[0m\u001b[1;32m    135\u001b[0m                           origin)\n\u001b[1;32m    136\u001b[0m     \u001b[0;32mreturn\u001b[0m \u001b[0moutput\u001b[0m\u001b[0;34m\u001b[0m\u001b[0;34m\u001b[0m\u001b[0m\n",
            "\u001b[0;31mKeyboardInterrupt\u001b[0m: "
          ]
        }
      ]
    }
  ]
}